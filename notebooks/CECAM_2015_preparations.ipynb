{
 "cells": [
  {
   "cell_type": "markdown",
   "metadata": {},
   "source": [
    "# MDAnalysis Tutorial at the 2015 CECAM Macromolecular simulation software workshop\n",
    "\n",
    "The [CECAM Macromolecular simulation software workshop](http://www.cecam.org/workshop-0-1214.html) contains a [CECAM analysing simulation data mini-workshop](http://philipwfowler.me/cecam-analysing-simulation-data-mini-workshop/) lead by Dr Phillip Fowler and as part of these two days, a team of [MDAnalysis](http://mdanalysis.org) developers (Oliver Beckstein, David Dotson, Tyler Reddy, Phil Fowler) will be at hand to give an introduction to the MDAnalysis Python library and be available to help with projects during the *hackathon*.\n"
   ]
  },
  {
   "cell_type": "markdown",
   "metadata": {},
   "source": [
    "This notebook is a draft document for developing the guided tutorial.\n",
    "* time available: 1:45 h\n",
    "* participants should have a working Python environment with MDAnalysis pre-installed\n",
    "* general approach: SWC-style\n",
    "\n",
    "In addition to *MDAnalysis* and the *data* (see below), it will also be useful to have [VMD](http://www.ks.uiuc.edu/Research/vmd/) installed."
   ]
  },
  {
   "cell_type": "markdown",
   "metadata": {},
   "source": [
    "## Software installation instructions\n",
    "\n",
    "\n",
    "### Conda-based\n",
    "Get the appropriate [miniconda installer](http://conda.pydata.org/miniconda.html) for Python 2.7; in the example we are using the Linux 64 bit one. Common choices:\n",
    "\n",
    "- Linux x96_64 (64 bit): https://repo.continuum.io/miniconda/Miniconda-latest-Linux-x86_64.sh\n",
    "- Mac OS X (64 bit): https://repo.continuum.io/miniconda/Miniconda-latest-MacOSX-x86_64.sh\n",
    "\n",
    "Run the installer to install the `conda` package manager and the necessary packages: \n",
    "```\n",
    "wget http://repo.continuum.io/miniconda/Miniconda-latest-Linux-x86_64.sh -O miniconda.sh\n",
    "chmod +x miniconda.sh\n",
    "./miniconda.sh -b\n",
    "export PATH=${HOME}/miniconda/bin:$PATH\n",
    "conda update --yes conda\n",
    "conda create --yes -n mdaenv python=2.7 numpy=1.9.2 scipy=0.16 nose=1.3.7 ipython\n",
    "source activate mdaenv\n",
    "conda install --yes python=2.7 cython biopython matplotlib networkx netcdf4\n",
    "\n",
    "# install the latest release of MDAnalysis (≥ 0.11.0)\n",
    "pip install --upgrade MDAnalysis \n",
    "pip install --no-cache-dir --upgrade MDAnalysisTests\n",
    "```\n",
    "\n",
    "Note:\n",
    "- The installation is performed in the [virtual environment](http://docs.python-guide.org/en/latest/dev/virtualenvs/) named **mdaenv**, which must be activated for use in the each shell session. (For more technical details see [virtualenv](https://virtualenv.pypa.io/en/latest/).)\n",
    "- If you do not have the netCDF libraries installed, do not include the `netcdf4` package.\n",
    "- ` --no-cache-dir` may be necessary to avoid a `MemoryError` in low-memory environments such as our virtual machines; with lots of memory you may omit it (see [pip issue #2984](https://github.com/pypa/pip/issues/2984)).\n",
    "- conda will also install the HDF5 and netcdf libraries for you so you will have a *full feature* installation of MDAnalysis\n",
    "\n",
    "### Pip and distribution package manager\n",
    "We use the distribution's package manager for most of the prerequisites and install any remaining packages (and MDAnalysis) with [pip](https://pip.pypa.io/en/stable/).\n",
    "\n",
    "#### Linux\n",
    "\n",
    "##### Ubuntu 14.04\n",
    "```\n",
    "sudo apt-get update\n",
    "sudo apt-get install -y build-essential python-dev python-setuptools python-pip\n",
    "sudo apt-get install -y python-numpy python-scipy python-matplotlib python-biopython python-networkx ipython\n",
    "sudo apt-get install -y libhdf5-serial-dev libnetcdf-dev\n",
    "\n",
    "sudo pip install netCDF4\n",
    "sudo pip install MDAnalysis MDAnalysisTests\n",
    "```\n",
    "\n",
    "##### Debian 7.6 Wheezy\n",
    "```\n",
    "sudo apt-get update\n",
    "sudo apt-get install -y build-essential python-dev python-setuptools python-pip\n",
    "sudo apt-get install -y python-numpy python-scipy python-matplotlib python-biopython python-networkx ipython\n",
    "sudo apt-get install -y libhdf5-serial-dev libnetcdf-dev\n",
    "\n",
    "sudo pip install netCDF4\n",
    "sudo pip install MDAnalysis MDAnalysisTests\n",
    "```\n",
    "\n",
    "\n",
    "#### Mac OS X (10.6.8+)\n",
    "##### Macports\n",
    "```\n",
    "port install py27-numpy  py27-cython\n",
    "port install py27-scipy  py27-matplotlib py27-biopython py27-ipython+notebook\n",
    "port install hdf5 netcdf+dap+netcdf4\n",
    "\n",
    "pip install netCDF4\n",
    "pip install MDAnalysis MDAnalysisTests\n",
    "```"
   ]
  },
  {
   "cell_type": "markdown",
   "metadata": {},
   "source": [
    "## Data download instructions\n",
    "\n",
    "Download a set of trajectories for the tutorial (equilibrium trajectories and DIMS trajectories)from [dropbox: CECAM_Workshop/MDAnalysis](https://www.dropbox.com/sh/ln0klc9j7mhvxkg/AAB0gMcPPsrDhdVrM2PWmopXa?dl=0). You can do all of it from the commandline:\n",
    "```\n",
    "curl -o mdatrj.zip -L 'https://www.dropbox.com/sh/am6y00kac8myihe/AABDiQI28fWnRZueQTT7W2s1a?dl=1'\n",
    "unzip mdatrj.zip && rm mdatrj.zip\n",
    "```\n",
    "You should now have two directories named *equilibrium/* and *dims/*.\n",
    "\n",
    "Note that this is about 318 MiB so **download well in advance of the workshop** where you have a good internet connection. You can also use dropbox, add the shared folder to your dropbox and then work from there during the tutorial.\n",
    "\n"
   ]
  },
  {
   "cell_type": "markdown",
   "metadata": {},
   "source": [
    " "
   ]
  }
 ],
 "metadata": {
  "kernelspec": {
   "display_name": "Python 2",
   "language": "python",
   "name": "python2"
  },
  "language_info": {
   "codemirror_mode": {
    "name": "ipython",
    "version": 2
   },
   "file_extension": ".py",
   "mimetype": "text/x-python",
   "name": "python",
   "nbconvert_exporter": "python",
   "pygments_lexer": "ipython2",
   "version": "2.7.10"
  }
 },
 "nbformat": 4,
 "nbformat_minor": 0
}
