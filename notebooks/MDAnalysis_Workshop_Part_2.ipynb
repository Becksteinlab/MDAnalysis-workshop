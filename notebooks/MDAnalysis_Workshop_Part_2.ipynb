{
 "cells": [
  {
   "cell_type": "markdown",
   "metadata": {},
   "source": [
    "# Tutorial Session 2\n",
    "Leader: Oliver Beckstein\n",
    "\n",
    "Note: This is the **instructor copy**, for the tutorial use the **participant copy** (which is based on this copy with most of the code removed)."
   ]
  },
  {
   "cell_type": "markdown",
   "metadata": {},
   "source": [
    "## Outline\n",
    "\n",
    "￼1. trajectory processing (reading)\n",
    "   - random access\n",
    "   - dynamically updated trajectory data (AtomGroup.positions)\n",
    "   - Examples\n",
    "      - get CV timeseries and plot (AdK angles from DIMS)\n",
    "      - Ramachandran analysis of trajectory (2D histogram)\n",
    "      - MAYBE: velocity autocorrelation function of e.g. ions or water with scipy.fft and diffusion coefficient\n",
    "      - segment trajectory based on order parameter (e.g. detect conformational transition in equilibrium AdK trajectory)\n",
    "￼   - modifying coordinates\n",
    "      -translation and rotation\n",
    "      - RMSD superposition\n",
    "         - Example: AdK domains\n",
    "\n",
    "￼2. trajectory processing (writing)\n",
    "   - writing coordinates (Writer)\n",
    "   - Example: format changes (Multi PDB/XTC) and concatenation (ChainReader)\n",
    "\n",
    "3. Bonus: interfacing with other packages\n",
    "     - Examples:\n",
    "        - implement LeafletFinder with networkx and analyze bilayer formation in a CGSA-MD simulation (@orbeckst)\n",
    "        - pandas with MDAnalysis (@dotsdl)\n",
    "\n",
    "        \n",
    "       "
   ]
  },
  {
   "cell_type": "markdown",
   "metadata": {},
   "source": [
    "## Data files\n",
    "Defined `DATADIR` to point to the directory where you [downloaded the tutorial trajectories](http://becksteinlab.github.io/MDAnalysis-workshop/datadownload.html) to."
   ]
  },
  {
   "cell_type": "code",
   "execution_count": 4,
   "metadata": {
    "collapsed": true
   },
   "outputs": [],
   "source": [
    "import os.path\n",
    "DATADIR = os.path.expanduser(\"~/Workshops/CECAM/tutorial/sandbox\")"
   ]
  },
  {
   "cell_type": "code",
   "execution_count": 5,
   "metadata": {
    "collapsed": false
   },
   "outputs": [
    {
     "data": {
      "text/plain": [
       "'/home/oliver/Workshops/CECAM/tutorial/sandbox'"
      ]
     },
     "execution_count": 5,
     "metadata": {},
     "output_type": "execute_result"
    }
   ],
   "source": [
    "DATADIR"
   ]
  },
  {
   "cell_type": "markdown",
   "metadata": {},
   "source": [
    "## Package imports "
   ]
  },
  {
   "cell_type": "code",
   "execution_count": 6,
   "metadata": {
    "collapsed": true
   },
   "outputs": [],
   "source": [
    "import numpy as np\n",
    "import matplotlib.pyplot as plt\n",
    "%matplotlib inline"
   ]
  },
  {
   "cell_type": "code",
   "execution_count": 8,
   "metadata": {
    "collapsed": false
   },
   "outputs": [
    {
     "name": "stdout",
     "output_type": "stream",
     "text": [
      "0.12.1\n"
     ]
    }
   ],
   "source": [
    "import MDAnalysis as mda\n",
    "print(mda.__version__)"
   ]
  },
  {
   "cell_type": "markdown",
   "metadata": {},
   "source": [
    "## Analyzing trajectories\n",
    "Reading data from a trajectory, frame by frame:"
   ]
  },
  {
   "cell_type": "code",
   "execution_count": null,
   "metadata": {
    "collapsed": true
   },
   "outputs": [],
   "source": []
  },
  {
   "cell_type": "markdown",
   "metadata": {},
   "source": [
    "## Writing trajectories and selections\n",
    "Writing out coordinates; introduce the selection writer (cross package)."
   ]
  },
  {
   "cell_type": "code",
   "execution_count": null,
   "metadata": {
    "collapsed": true
   },
   "outputs": [],
   "source": []
  },
  {
   "cell_type": "markdown",
   "metadata": {},
   "source": [
    "## Extra "
   ]
  },
  {
   "cell_type": "code",
   "execution_count": null,
   "metadata": {
    "collapsed": true
   },
   "outputs": [],
   "source": []
  }
 ],
 "metadata": {
  "kernelspec": {
   "display_name": "Python 2",
   "language": "python",
   "name": "python2"
  },
  "language_info": {
   "codemirror_mode": {
    "name": "ipython",
    "version": 2
   },
   "file_extension": ".py",
   "mimetype": "text/x-python",
   "name": "python",
   "nbconvert_exporter": "python",
   "pygments_lexer": "ipython2",
   "version": "2.7.10"
  }
 },
 "nbformat": 4,
 "nbformat_minor": 0
}
