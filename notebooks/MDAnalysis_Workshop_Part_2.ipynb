{
 "cells": [
  {
   "cell_type": "markdown",
   "metadata": {},
   "source": [
    "# Tutorial Session 2\n",
    "Leader: Oliver Beckstein\n",
    "\n",
    "Note: This is the **instructor copy**, for the tutorial use the **participant copy** (which is based on this copy with most of the code removed)."
   ]
  },
  {
   "cell_type": "markdown",
   "metadata": {},
   "source": [
    "## Outline\n",
    "\n",
    "￼1. trajectory processing (reading)\n",
    "   - random access\n",
    "   - dynamically updated trajectory data (AtomGroup.positions)\n",
    "   - Examples\n",
    "      - get CV timeseries and plot (AdK angles from DIMS)\n",
    "      - Ramachandran analysis of trajectory (2D histogram)\n",
    "      - MAYBE: velocity autocorrelation function of e.g. ions or water with scipy.fft and diffusion coefficient\n",
    "      - segment trajectory based on order parameter (e.g. detect conformational transition in equilibrium AdK trajectory)\n",
    "￼   - modifying coordinates\n",
    "      -translation and rotation\n",
    "      - RMSD superposition\n",
    "         - Example: AdK domains\n",
    "\n",
    "￼2. trajectory processing (writing)\n",
    "   - writing coordinates (Writer)\n",
    "   - Example: format changes (Multi PDB/XTC) and concatenation (ChainReader)\n",
    "\n",
    "3. Bonus: interfacing with other packages\n",
    "     - Examples:\n",
    "        - implement LeafletFinder with networkx and analyze bilayer formation in a CGSA-MD simulation (@orbeckst)\n",
    "        - pandas with MDAnalysis (@dotsdl)\n",
    "\n",
    "        \n",
    "       "
   ]
  },
  {
   "cell_type": "markdown",
   "metadata": {},
   "source": [
    "## Package imports "
   ]
  },
  {
   "cell_type": "code",
   "execution_count": 1,
   "metadata": {
    "collapsed": true
   },
   "outputs": [],
   "source": [
    "import numpy as np\n",
    "import matplotlib.pyplot as plt\n",
    "%matplotlib inline\n",
    "\n",
    "from IPython.core.display import Image"
   ]
  },
  {
   "cell_type": "code",
   "execution_count": 2,
   "metadata": {
    "collapsed": false,
    "scrolled": true
   },
   "outputs": [
    {
     "name": "stdout",
     "output_type": "stream",
     "text": [
      "0.12.1\n"
     ]
    }
   ],
   "source": [
    "import MDAnalysis as mda\n",
    "print(mda.__version__)"
   ]
  },
  {
   "cell_type": "markdown",
   "metadata": {},
   "source": [
    "## Data files\n",
    "Defined `datapath` to point to the directory where you [downloaded the tutorial trajectories](http://becksteinlab.github.io/MDAnalysis-workshop/datadownload.html) to."
   ]
  },
  {
   "cell_type": "code",
   "execution_count": 3,
   "metadata": {
    "collapsed": true
   },
   "outputs": [],
   "source": [
    "import os.path\n",
    "datapath = os.path.expanduser(\"~/Workshops/CECAM/tutorial/sandbox\")"
   ]
  },
  {
   "cell_type": "code",
   "execution_count": 4,
   "metadata": {
    "collapsed": false
   },
   "outputs": [
    {
     "data": {
      "text/plain": [
       "'/Users/oliver/Workshops/CECAM/tutorial/sandbox'"
      ]
     },
     "execution_count": 4,
     "metadata": {},
     "output_type": "execute_result"
    }
   ],
   "source": [
    "datapath"
   ]
  },
  {
   "cell_type": "markdown",
   "metadata": {},
   "source": [
    "## AdK test trajectories\n",
    "Look again at AdK trajectories..."
   ]
  },
  {
   "cell_type": "code",
   "execution_count": 24,
   "metadata": {
    "collapsed": false
   },
   "outputs": [],
   "source": [
    "top = os.path.join(datapath, 'equilibrium', 'adk4AKE.psf')\n",
    "trj = os.path.join(datapath, 'equilibrium', '1ake_007-nowater-core-dt240ps.dcd')\n",
    "\n",
    "#psf = os.path.join(datapath, \"dims\", \"adk4ake.psf\")\n",
    "#trj = os.path.join(datapath, \"dims\", \"dims_co_001.dcd\")\n",
    "\n",
    "#coDIMS = [os.path.join(datadir, \"dims\", \"dims_co_{0:03n}.dcd\".format(i)) for i in range(1,4)] \n",
    "#ocDIMS = [os.path.join(datadir, \"dims\", \"dims_oc_{0:03n}.dcd\".format(i)) for i in range(1,4)] "
   ]
  },
  {
   "cell_type": "code",
   "execution_count": 25,
   "metadata": {
    "collapsed": true
   },
   "outputs": [],
   "source": [
    "u = mda.Universe(top, trj)"
   ]
  },
  {
   "cell_type": "code",
   "execution_count": 26,
   "metadata": {
    "collapsed": false
   },
   "outputs": [
    {
     "data": {
      "text/plain": [
       "<Universe with 3341 atoms and 3365 bonds>"
      ]
     },
     "execution_count": 26,
     "metadata": {},
     "output_type": "execute_result"
    }
   ],
   "source": [
    "u"
   ]
  },
  {
   "cell_type": "markdown",
   "metadata": {},
   "source": [
    "## Trajectories"
   ]
  },
  {
   "cell_type": "markdown",
   "metadata": {},
   "source": [
    "The `Universe.trajectory` object is the entry point to all trajectory functionality:"
   ]
  },
  {
   "cell_type": "code",
   "execution_count": 27,
   "metadata": {
    "collapsed": false
   },
   "outputs": [
    {
     "data": {
      "text/plain": [
       "< DCDReader '/Users/oliver/Workshops/CECAM/tutorial/sandbox/equilibrium/1ake_007-nowater-core-dt240ps.dcd' with 4187 frames of 3341 atoms>"
      ]
     },
     "execution_count": 27,
     "metadata": {},
     "output_type": "execute_result"
    }
   ],
   "source": [
    "u.trajectory"
   ]
  },
  {
   "cell_type": "markdown",
   "metadata": {},
   "source": [
    "Trajectories have a length in frames and in **ps** (the base MDAnalysis time unit):"
   ]
  },
  {
   "cell_type": "code",
   "execution_count": 28,
   "metadata": {
    "collapsed": false
   },
   "outputs": [
    {
     "data": {
      "text/plain": [
       "4187"
      ]
     },
     "execution_count": 28,
     "metadata": {},
     "output_type": "execute_result"
    }
   ],
   "source": [
    "u.trajectory.n_frames"
   ]
  },
  {
   "cell_type": "code",
   "execution_count": 29,
   "metadata": {
    "collapsed": false
   },
   "outputs": [
    {
     "data": {
      "text/plain": [
       "4187"
      ]
     },
     "execution_count": 29,
     "metadata": {},
     "output_type": "execute_result"
    }
   ],
   "source": [
    "len(u.trajectory)"
   ]
  },
  {
   "cell_type": "code",
   "execution_count": 30,
   "metadata": {
    "collapsed": false
   },
   "outputs": [
    {
     "data": {
      "text/plain": [
       "1004880.0205162591"
      ]
     },
     "execution_count": 30,
     "metadata": {},
     "output_type": "execute_result"
    }
   ],
   "source": [
    "u.trajectory.totaltime"
   ]
  },
  {
   "cell_type": "markdown",
   "metadata": {},
   "source": [
    "### `Timestep` "
   ]
  },
  {
   "cell_type": "markdown",
   "metadata": {},
   "source": [
    "They also contain a `Timestep` object, which holds the **current**\n",
    "* frame and time\n",
    "* unitcell dimensions (if available) as `[A, B, C, alpha, beta, gamma]`\n",
    "* raw positions (and velocities and forces, if available)\n",
    "* additional data, if defined by the trajectory format"
   ]
  },
  {
   "cell_type": "markdown",
   "metadata": {},
   "source": []
  },
  {
   "cell_type": "code",
   "execution_count": 74,
   "metadata": {
    "collapsed": false
   },
   "outputs": [
    {
     "data": {
      "text/plain": [
       "< Timestep 0 with unit cell dimensions [ 85.53471375  85.53471375  85.53471375  90.          90.          90.        ] >"
      ]
     },
     "execution_count": 74,
     "metadata": {},
     "output_type": "execute_result"
    }
   ],
   "source": [
    "ts = u.trajectory.ts\n",
    "ts"
   ]
  },
  {
   "cell_type": "code",
   "execution_count": 69,
   "metadata": {
    "collapsed": false
   },
   "outputs": [
    {
     "data": {
      "text/plain": [
       "0"
      ]
     },
     "execution_count": 69,
     "metadata": {},
     "output_type": "execute_result"
    }
   ],
   "source": [
    "ts.frame"
   ]
  },
  {
   "cell_type": "code",
   "execution_count": 70,
   "metadata": {
    "collapsed": false
   },
   "outputs": [
    {
     "data": {
      "text/plain": [
       "0.0"
      ]
     },
     "execution_count": 70,
     "metadata": {},
     "output_type": "execute_result"
    }
   ],
   "source": [
    "ts.time"
   ]
  },
  {
   "cell_type": "code",
   "execution_count": 71,
   "metadata": {
    "collapsed": false
   },
   "outputs": [
    {
     "data": {
      "text/plain": [
       "array([ 85.53471375,  85.53471375,  85.53471375,  90.        ,\n",
       "        90.        ,  90.        ], dtype=float32)"
      ]
     },
     "execution_count": 71,
     "metadata": {},
     "output_type": "execute_result"
    }
   ],
   "source": [
    "ts.dimensions"
   ]
  },
  {
   "cell_type": "code",
   "execution_count": 72,
   "metadata": {
    "collapsed": false
   },
   "outputs": [
    {
     "data": {
      "text/plain": [
       "array([[  2.87066364,  10.60445595,   9.75028801],\n",
       "       [  3.10920501,  11.32470894,   9.0389967 ],\n",
       "       [  3.74609542,  10.24300766,  10.17991066],\n",
       "       ..., \n",
       "       [ -7.49935293,  10.89219856,  12.33476448],\n",
       "       [ -6.59658432,  10.83427048,  12.92472839],\n",
       "       [ -8.34826946,  10.59926796,  12.93470669]], dtype=float32)"
      ]
     },
     "execution_count": 72,
     "metadata": {},
     "output_type": "execute_result"
    }
   ],
   "source": [
    "ts.positions"
   ]
  },
  {
   "cell_type": "code",
   "execution_count": 73,
   "metadata": {
    "collapsed": false
   },
   "outputs": [
    {
     "ename": "NoDataError",
     "evalue": "This Timestep has no velocities",
     "output_type": "error",
     "traceback": [
      "\u001b[0;31m---------------------------------------------------------------------------\u001b[0m",
      "\u001b[0;31mNoDataError\u001b[0m                               Traceback (most recent call last)",
      "\u001b[0;32m<ipython-input-73-d44cc7e6970a>\u001b[0m in \u001b[0;36m<module>\u001b[0;34m()\u001b[0m\n\u001b[0;32m----> 1\u001b[0;31m \u001b[0mts\u001b[0m\u001b[0;34m.\u001b[0m\u001b[0mvelocities\u001b[0m\u001b[0;34m\u001b[0m\u001b[0m\n\u001b[0m",
      "\u001b[0;32m/Users/oliver/Library/Python/2.7/lib/python/site-packages/MDAnalysis-0.12.1-py2.7-macosx-10.6-x86_64.egg/MDAnalysis/coordinates/base.pyc\u001b[0m in \u001b[0;36mvelocities\u001b[0;34m(self)\u001b[0m\n\u001b[1;32m    522\u001b[0m             \u001b[0;32mreturn\u001b[0m \u001b[0mself\u001b[0m\u001b[0;34m.\u001b[0m\u001b[0m_velocities\u001b[0m\u001b[0;34m\u001b[0m\u001b[0m\n\u001b[1;32m    523\u001b[0m         \u001b[0;32melse\u001b[0m\u001b[0;34m:\u001b[0m\u001b[0;34m\u001b[0m\u001b[0m\n\u001b[0;32m--> 524\u001b[0;31m             \u001b[0;32mraise\u001b[0m \u001b[0mNoDataError\u001b[0m\u001b[0;34m(\u001b[0m\u001b[0;34m\"This Timestep has no velocities\"\u001b[0m\u001b[0;34m)\u001b[0m\u001b[0;34m\u001b[0m\u001b[0m\n\u001b[0m\u001b[1;32m    525\u001b[0m \u001b[0;34m\u001b[0m\u001b[0m\n\u001b[1;32m    526\u001b[0m     \u001b[0;34m@\u001b[0m\u001b[0mvelocities\u001b[0m\u001b[0;34m.\u001b[0m\u001b[0msetter\u001b[0m\u001b[0;34m\u001b[0m\u001b[0m\n",
      "\u001b[0;31mNoDataError\u001b[0m: This Timestep has no velocities"
     ]
    }
   ],
   "source": [
    "ts.velocities"
   ]
  },
  {
   "cell_type": "code",
   "execution_count": 75,
   "metadata": {
    "collapsed": false
   },
   "outputs": [
    {
     "data": {
      "text/plain": [
       "{'dt': 240.00000489999024}"
      ]
     },
     "execution_count": 75,
     "metadata": {},
     "output_type": "execute_result"
    }
   ],
   "source": [
    "ts.data"
   ]
  },
  {
   "cell_type": "markdown",
   "metadata": {},
   "source": [
    "### Moving forward... or anywhere\n",
    "`Universe.trajectory` behaves a bit like a list of Timesteps:\n",
    "* index --> `Timestep`: go to frame\n",
    "* iterate --> `Timestep`: go to each frame in sequence\n",
    "* slice --> new trajectory iterator"
   ]
  },
  {
   "cell_type": "markdown",
   "metadata": {},
   "source": [
    "#### Trajectory indexing\n",
    "Let's move to an arbitrary frame in the trajectory:"
   ]
  },
  {
   "cell_type": "code",
   "execution_count": 39,
   "metadata": {
    "collapsed": false
   },
   "outputs": [
    {
     "data": {
      "text/plain": [
       "< Timestep 42 with unit cell dimensions [ 85.59259033  85.59259033  85.59259033  90.          90.          90.        ] >"
      ]
     },
     "execution_count": 39,
     "metadata": {},
     "output_type": "execute_result"
    }
   ],
   "source": [
    "u.trajectory[42]"
   ]
  },
  {
   "cell_type": "code",
   "execution_count": 41,
   "metadata": {
    "collapsed": false
   },
   "outputs": [
    {
     "data": {
      "text/plain": [
       "42"
      ]
     },
     "execution_count": 41,
     "metadata": {},
     "output_type": "execute_result"
    }
   ],
   "source": [
    "u.trajectory.ts.frame"
   ]
  },
  {
   "cell_type": "code",
   "execution_count": 42,
   "metadata": {
    "collapsed": false
   },
   "outputs": [
    {
     "data": {
      "text/plain": [
       "< Timestep 4164 with unit cell dimensions [ 85.61685944  85.61685944  85.61685944  90.          90.          90.        ] >"
      ]
     },
     "execution_count": 42,
     "metadata": {},
     "output_type": "execute_result"
    }
   ],
   "source": [
    "u.trajectory[-23]"
   ]
  },
  {
   "cell_type": "code",
   "execution_count": 44,
   "metadata": {
    "collapsed": false
   },
   "outputs": [
    {
     "data": {
      "text/plain": [
       "< Timestep 4164 with unit cell dimensions [ 85.61685944  85.61685944  85.61685944  90.          90.          90.        ] >"
      ]
     },
     "execution_count": 44,
     "metadata": {},
     "output_type": "execute_result"
    }
   ],
   "source": [
    "u.trajectory.ts"
   ]
  },
  {
   "cell_type": "markdown",
   "metadata": {},
   "source": [
    "Note that you *cannot* \"remember\" a `Timestep`: The following will *not keep a copy of the timeset at frame 20*:"
   ]
  },
  {
   "cell_type": "code",
   "execution_count": 45,
   "metadata": {
    "collapsed": true
   },
   "outputs": [],
   "source": [
    "ts20 = u.trajectory[20]"
   ]
  },
  {
   "cell_type": "code",
   "execution_count": 46,
   "metadata": {
    "collapsed": false
   },
   "outputs": [
    {
     "data": {
      "text/plain": [
       "20"
      ]
     },
     "execution_count": 46,
     "metadata": {},
     "output_type": "execute_result"
    }
   ],
   "source": [
    "ts20.frame"
   ]
  },
  {
   "cell_type": "code",
   "execution_count": 47,
   "metadata": {
    "collapsed": false
   },
   "outputs": [
    {
     "data": {
      "text/plain": [
       "< Timestep 42 with unit cell dimensions [ 85.59259033  85.59259033  85.59259033  90.          90.          90.        ] >"
      ]
     },
     "execution_count": 47,
     "metadata": {},
     "output_type": "execute_result"
    }
   ],
   "source": [
    "u.trajectory[42]"
   ]
  },
  {
   "cell_type": "code",
   "execution_count": 48,
   "metadata": {
    "collapsed": false
   },
   "outputs": [
    {
     "data": {
      "text/plain": [
       "< Timestep 42 with unit cell dimensions [ 85.59259033  85.59259033  85.59259033  90.          90.          90.        ] >"
      ]
     },
     "execution_count": 48,
     "metadata": {},
     "output_type": "execute_result"
    }
   ],
   "source": [
    "ts20"
   ]
  },
  {
   "cell_type": "markdown",
   "metadata": {},
   "source": [
    "If you *really* want to, you can make a copy (but this is not used very much):"
   ]
  },
  {
   "cell_type": "code",
   "execution_count": 49,
   "metadata": {
    "collapsed": true
   },
   "outputs": [],
   "source": [
    "ts42copy = u.trajectory.ts.copy()"
   ]
  },
  {
   "cell_type": "code",
   "execution_count": 50,
   "metadata": {
    "collapsed": false
   },
   "outputs": [
    {
     "data": {
      "text/plain": [
       "42"
      ]
     },
     "execution_count": 50,
     "metadata": {},
     "output_type": "execute_result"
    }
   ],
   "source": [
    "ts42copy.frame"
   ]
  },
  {
   "cell_type": "code",
   "execution_count": 53,
   "metadata": {
    "collapsed": false
   },
   "outputs": [
    {
     "data": {
      "text/plain": [
       "< Timestep 2 with unit cell dimensions [ 85.61096191  85.61096191  85.61096191  90.          90.          90.        ] >"
      ]
     },
     "execution_count": 53,
     "metadata": {},
     "output_type": "execute_result"
    }
   ],
   "source": [
    "u.trajectory[2]"
   ]
  },
  {
   "cell_type": "code",
   "execution_count": 56,
   "metadata": {
    "collapsed": false
   },
   "outputs": [
    {
     "data": {
      "text/plain": [
       "42"
      ]
     },
     "execution_count": 56,
     "metadata": {},
     "output_type": "execute_result"
    }
   ],
   "source": [
    "ts42copy.frame"
   ]
  },
  {
   "cell_type": "markdown",
   "metadata": {},
   "source": [
    "#### Iteration and Slicing\n",
    "The **most common usage pattern** in MDAnalysis: Access each frame in a trajectory:"
   ]
  },
  {
   "cell_type": "code",
   "execution_count": 65,
   "metadata": {
    "collapsed": false
   },
   "outputs": [
    {
     "data": {
      "text/plain": [
       "array([   0,    1,    2, ..., 4184, 4185, 4186])"
      ]
     },
     "execution_count": 65,
     "metadata": {},
     "output_type": "execute_result"
    }
   ],
   "source": [
    "results = []\n",
    "for ts in u.trajectory:\n",
    "    results.append(ts.frame)\n",
    "results = np.array(results)\n",
    "results"
   ]
  },
  {
   "cell_type": "markdown",
   "metadata": {},
   "source": [
    "... or arbitrary slices:"
   ]
  },
  {
   "cell_type": "code",
   "execution_count": 66,
   "metadata": {
    "collapsed": false
   },
   "outputs": [
    {
     "data": {
      "text/plain": [
       "array([ 500, 1500, 2500, 3500])"
      ]
     },
     "execution_count": 66,
     "metadata": {},
     "output_type": "execute_result"
    }
   ],
   "source": [
    "results = np.fromiter((ts.frame for ts in u.trajectory[500::1000]), dtype=np.int64)\n",
    "results"
   ]
  },
  {
   "cell_type": "markdown",
   "metadata": {},
   "source": [
    "... and for numpy afficionados, \"fancy indexing\" also works:"
   ]
  },
  {
   "cell_type": "code",
   "execution_count": 67,
   "metadata": {
    "collapsed": false
   },
   "outputs": [
    {
     "data": {
      "text/plain": [
       "array([10, 20, 10,  0])"
      ]
     },
     "execution_count": 67,
     "metadata": {},
     "output_type": "execute_result"
    }
   ],
   "source": [
    "results = np.fromiter((ts.frame for ts in u.trajectory[[10, 20, 10, 0]]), dtype=np.int64)\n",
    "results"
   ]
  },
  {
   "cell_type": "markdown",
   "metadata": {},
   "source": [
    "*Note*: It does not make sense to create a list of timesteps like\n",
    "```python\n",
    "timesteps = [ts for ts in u.trajectory]\n",
    "```\n",
    "or\n",
    "```python\n",
    "timesteps = list(u.trajectory)\n",
    "```\n",
    "because each list item will refer to the same currently active timestep (the first one because at the end of iteration the trajectory rewinds)."
   ]
  },
  {
   "cell_type": "markdown",
   "metadata": {},
   "source": [
    "## Analyzing trajectories with `Atomgroup`s\n",
    "Using the raw `Timestep` positions is cumbersome. Moving the time step automatically updates all positions that `Atomgroup.positions` sees at this instance:"
   ]
  },
  {
   "cell_type": "code",
   "execution_count": 87,
   "metadata": {
    "collapsed": true
   },
   "outputs": [],
   "source": [
    "u.trajectory[0]\n",
    "protein = u.select_atoms(\"protein\")"
   ]
  },
  {
   "cell_type": "code",
   "execution_count": 88,
   "metadata": {
    "collapsed": false
   },
   "outputs": [
    {
     "data": {
      "text/plain": [
       "<AtomGroup with 3341 atoms>"
      ]
     },
     "execution_count": 88,
     "metadata": {},
     "output_type": "execute_result"
    }
   ],
   "source": [
    "protein"
   ]
  },
  {
   "cell_type": "code",
   "execution_count": 89,
   "metadata": {
    "collapsed": false
   },
   "outputs": [
    {
     "data": {
      "text/plain": [
       "array([ 0.88438491,  2.20197295, -5.15443377])"
      ]
     },
     "execution_count": 89,
     "metadata": {},
     "output_type": "execute_result"
    }
   ],
   "source": [
    "protein.center_of_mass()"
   ]
  },
  {
   "cell_type": "markdown",
   "metadata": {},
   "source": [
    "What's the current frame?"
   ]
  },
  {
   "cell_type": "code",
   "execution_count": 90,
   "metadata": {
    "collapsed": false
   },
   "outputs": [
    {
     "data": {
      "text/plain": [
       "0"
      ]
     },
     "execution_count": 90,
     "metadata": {},
     "output_type": "execute_result"
    }
   ],
   "source": [
    "u.trajectory.ts.frame"
   ]
  },
  {
   "cell_type": "markdown",
   "metadata": {},
   "source": [
    "Move to the last one:"
   ]
  },
  {
   "cell_type": "code",
   "execution_count": 91,
   "metadata": {
    "collapsed": false
   },
   "outputs": [
    {
     "data": {
      "text/plain": [
       "< Timestep 4186 with unit cell dimensions [ 85.53918457  85.53918457  85.53918457  90.          90.          90.        ] >"
      ]
     },
     "execution_count": 91,
     "metadata": {},
     "output_type": "execute_result"
    }
   ],
   "source": [
    "u.trajectory[-1]"
   ]
  },
  {
   "cell_type": "code",
   "execution_count": 92,
   "metadata": {
    "collapsed": false
   },
   "outputs": [
    {
     "data": {
      "text/plain": [
       "array([ 0.5024933 ,  2.12670795, -5.94951837])"
      ]
     },
     "execution_count": 92,
     "metadata": {},
     "output_type": "execute_result"
    }
   ],
   "source": [
    "protein.center_of_mass()"
   ]
  },
  {
   "cell_type": "markdown",
   "metadata": {},
   "source": [
    "#### Example: radius of gyration time series\n",
    "Collect `(time, radius_of_gyration)` for the protein for frames 0 - 500 and plot $R_{\\mathrm{gyr}}(t)$, with time in ns."
   ]
  },
  {
   "cell_type": "code",
   "execution_count": 94,
   "metadata": {
    "collapsed": false
   },
   "outputs": [],
   "source": [
    "protein = u.select_atoms(\"protein\")\n",
    "results = []\n",
    "for ts in u.trajectory[:500]:\n",
    "    results.append((ts.time, protein.radius_of_gyration()))\n",
    "time, rgyr = np.transpose(results)"
   ]
  },
  {
   "cell_type": "code",
   "execution_count": 105,
   "metadata": {
    "collapsed": false
   },
   "outputs": [
    {
     "data": {
      "text/plain": [
       "<matplotlib.text.Text at 0x10cb12e50>"
      ]
     },
     "execution_count": 105,
     "metadata": {},
     "output_type": "execute_result"
    },
    {
     "data": {
      "image/png": "[encoded data removed]",
      "text/plain": [
       "<matplotlib.figure.Figure at 0x10c7ae850>"
      ]
     },
     "metadata": {},
     "output_type": "display_data"
    }
   ],
   "source": [
    "ax = plt.subplot(111)\n",
    "ax.plot(time/1000, rgyr)\n",
    "ax.set_xlabel(\"time (ns)\")\n",
    "ax.set_ylabel(r\"$R_{\\mathrm{gyr}}$ ($\\AA$)\")"
   ]
  },
  {
   "cell_type": "markdown",
   "metadata": {},
   "source": [
    "#### Exercise: Collective variable analysis of AdK\n",
    "\n",
    "1. Generate timeseries for domain angles, i.e. $t$, $\\theta_\\mathrm{NMP}$, $\\theta_\\mathrm{LID}$ (for the first 100 frames)\n",
    "2. Plot (a) the time series, (b) the angles against each other.\n",
    "3. Bonus: \n",
    "   - analyze some of the other trajectories (e.g. from the \"dims\" directory)\n",
    "   - is the radius of gyration correlated with the angles?"
   ]
  },
  {
   "cell_type": "code",
   "execution_count": 109,
   "metadata": {
    "collapsed": true
   },
   "outputs": [],
   "source": [
    "import numpy as np\n",
    "from numpy.linalg import norm\n",
    "\n",
    "def theta_NMP(ag):\n",
    "    \"\"\"Calculate the NMP-CORE angle for E. coli AdK in degrees\"\"\"\n",
    "    C = ag.select_atoms(\"resid 115:125 and backbone\").center_of_geometry()\n",
    "    B = ag.select_atoms(\"resid 90:100 and backbone\").center_of_geometry()\n",
    "    A = ag.select_atoms(\"resid 35:55 and backbone\").center_of_geometry()\n",
    "    BA = A - B\n",
    "    BC = C - B\n",
    "    theta = np.arccos(np.dot(BA, BC)/(norm(BA)*norm(BC)))\n",
    "    return np.rad2deg(theta)\n",
    "\n",
    "def theta_LID(ag):\n",
    "    \"\"\"Calculate the LID-CORE angle for E. coli AdK in degrees\"\"\"\n",
    "    C = ag.select_atoms(\"resid 179:185 and backbone\").center_of_geometry()\n",
    "    B = ag.select_atoms(\"resid 115:125 and backbone\").center_of_geometry()\n",
    "    A = ag.select_atoms(\"resid 125:153 and backbone\").center_of_geometry()\n",
    "    BA = A - B\n",
    "    BC = C - B\n",
    "    theta = np.arccos(np.dot(BA, BC)/(norm(BA)*norm(BC)))\n",
    "    return np.rad2deg(theta)"
   ]
  },
  {
   "cell_type": "code",
   "execution_count": 117,
   "metadata": {
    "collapsed": true
   },
   "outputs": [],
   "source": [
    "data = np.array([[ts.time, theta_NMP(u), theta_LID(u)] for ts in u.trajectory[:500]])"
   ]
  },
  {
   "cell_type": "code",
   "execution_count": 118,
   "metadata": {
    "collapsed": false
   },
   "outputs": [
    {
     "data": {
      "text/plain": [
       "array([[   0.        ,   51.06463242,  113.44179535],\n",
       "       [ 240.0000049 ,   51.18372726,  111.32324219],\n",
       "       [ 480.0000098 ,   48.63728333,  114.36273193]])"
      ]
     },
     "execution_count": 118,
     "metadata": {},
     "output_type": "execute_result"
    }
   ],
   "source": [
    "data[:3]"
   ]
  },
  {
   "cell_type": "code",
   "execution_count": 119,
   "metadata": {
    "collapsed": true
   },
   "outputs": [],
   "source": [
    "time, aNMP, aLID = data.transpose()"
   ]
  },
  {
   "cell_type": "code",
   "execution_count": 126,
   "metadata": {
    "collapsed": false
   },
   "outputs": [
    {
     "data": {
      "image/png": "[encoded data removed]",
      "text/plain": [
       "<matplotlib.figure.Figure at 0x10e126790>"
      ]
     },
     "metadata": {},
     "output_type": "display_data"
    }
   ],
   "source": [
    "ax1 = plt.subplot(121)\n",
    "ax1.plot(time/1000, aNMP, label=\"NMP\")\n",
    "ax1.plot(time/1000, aLID, label=\"LID\")\n",
    "ax1.set_xlabel(\"time (ns)\")\n",
    "ax1.set_ylabel(\"angle (degree)\")\n",
    "ax1.legend(loc=\"best\")\n",
    "ax2 = plt.subplot(122)\n",
    "ax2.plot(aNMP, aLID)\n",
    "ax2.set_xlabel(r\"$\\theta_\\mathrm{NMP}$\")\n",
    "ax2.set_ylabel(r\"$\\theta_\\mathrm{LID}$\")\n",
    "ax2.set_aspect(1)\n",
    "plt.tight_layout()"
   ]
  },
  {
   "cell_type": "markdown",
   "metadata": {},
   "source": [
    "## Trajectory manipulation\n",
    "\n",
    "One can easily modify the coordinates of the current timestep: Either directly in `Timestep.positions` or via `AtomGroup` methods such as `translate` or `rotate`.\n",
    "\n",
    "In particular, we can do RMSD fitting.\n"
   ]
  },
  {
   "cell_type": "markdown",
   "metadata": {},
   "source": [
    "## Writing trajectories and selections\n",
    "Writing out coordinates; introduce the selection writer (cross package)."
   ]
  },
  {
   "cell_type": "code",
   "execution_count": null,
   "metadata": {
    "collapsed": true
   },
   "outputs": [],
   "source": []
  },
  {
   "cell_type": "markdown",
   "metadata": {},
   "source": [
    "## Extra "
   ]
  },
  {
   "cell_type": "code",
   "execution_count": null,
   "metadata": {
    "collapsed": true
   },
   "outputs": [],
   "source": []
  }
 ],
 "metadata": {
  "kernelspec": {
   "display_name": "Python 2",
   "language": "python",
   "name": "python2"
  },
  "language_info": {
   "codemirror_mode": {
    "name": "ipython",
    "version": 2
   },
   "file_extension": ".py",
   "mimetype": "text/x-python",
   "name": "python",
   "nbconvert_exporter": "python",
   "pygments_lexer": "ipython2",
   "version": "2.7.10"
  }
 },
 "nbformat": 4,
 "nbformat_minor": 0
}
