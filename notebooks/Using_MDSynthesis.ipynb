{
 "cells": [
  {
   "cell_type": "code",
   "execution_count": 1,
   "metadata": {
    "collapsed": true
   },
   "outputs": [],
   "source": [
    "import mdsynthesis as mds"
   ]
  },
  {
   "cell_type": "code",
   "execution_count": 2,
   "metadata": {
    "collapsed": true
   },
   "outputs": [],
   "source": [
    "top = '../../sandbox/dims/adk4ake.psf'"
   ]
  },
  {
   "cell_type": "code",
   "execution_count": 3,
   "metadata": {
    "collapsed": true
   },
   "outputs": [],
   "source": [
    "import glob"
   ]
  },
  {
   "cell_type": "code",
   "execution_count": 69,
   "metadata": {
    "collapsed": false
   },
   "outputs": [],
   "source": [
    "trajs = glob.glob('../../sandbox/dims/*co*.dcd')"
   ]
  },
  {
   "cell_type": "code",
   "execution_count": 70,
   "metadata": {
    "collapsed": false
   },
   "outputs": [
    {
     "data": {
      "text/plain": [
       "['../../sandbox/dims/dims_co_001.dcd',\n",
       " '../../sandbox/dims/dims_co_003.dcd',\n",
       " '../../sandbox/dims/dims_co_002.dcd']"
      ]
     },
     "execution_count": 70,
     "metadata": {},
     "output_type": "execute_result"
    }
   ],
   "source": [
    "trajs"
   ]
  },
  {
   "cell_type": "code",
   "execution_count": 71,
   "metadata": {
    "collapsed": true
   },
   "outputs": [],
   "source": [
    "sims = []\n",
    "for i, traj in enumerate(trajs):\n",
    "    s = mds.Sim('adk_dims_co_{}'.format(i))\n",
    "    s.universes.add('main', top, traj)\n",
    "    s.tags.add('closed to open', 'dims', 'AdK')\n",
    "    sims.append(s)"
   ]
  },
  {
   "cell_type": "code",
   "execution_count": 72,
   "metadata": {
    "collapsed": false
   },
   "outputs": [
    {
     "data": {
      "text/plain": [
       "[<Sim: 'adk_dims_co_0'>, <Sim: 'adk_dims_co_1'>, <Sim: 'adk_dims_co_2'>]"
      ]
     },
     "execution_count": 72,
     "metadata": {},
     "output_type": "execute_result"
    }
   ],
   "source": [
    "sims"
   ]
  },
  {
   "cell_type": "code",
   "execution_count": 73,
   "metadata": {
    "collapsed": true
   },
   "outputs": [],
   "source": [
    "b = mds.Bundle(sims)"
   ]
  },
  {
   "cell_type": "code",
   "execution_count": 74,
   "metadata": {
    "collapsed": false
   },
   "outputs": [],
   "source": [
    "import numpy as np\n",
    "from numpy.linalg import norm\n",
    "\n",
    "def theta_NMP(u):\n",
    "    \"\"\"Calculate the NMP-CORE angle for E. coli AdK in degrees\"\"\"\n",
    "    C = u.select_atoms(\"resid 115:125 and backbone\").center_of_geometry()\n",
    "    B = u.select_atoms(\"resid 90:100 and backbone\").center_of_geometry()\n",
    "    A = u.select_atoms(\"resid 35:55 and backbone\").center_of_geometry()\n",
    "    BA = A - B\n",
    "    BC = C - B\n",
    "    theta = np.arccos(np.dot(BA, BC)/(norm(BA)*norm(BC)))\n",
    "    return np.rad2deg(theta)\n",
    "\n",
    "def theta_LID(u):\n",
    "    \"\"\"Calculate the LID-CORE angle for E. coli AdK in degrees\"\"\"\n",
    "    C = u.select_atoms(\"resid 179:185 and backbone\").center_of_geometry()\n",
    "    B = u.select_atoms(\"resid 115:125 and backbone\").center_of_geometry()\n",
    "    A = u.select_atoms(\"resid 125:153 and backbone\").center_of_geometry()\n",
    "    BA = A - B\n",
    "    BC = C - B\n",
    "    theta = np.arccos(np.dot(BA, BC)/(norm(BA)*norm(BC)))\n",
    "    return np.rad2deg(theta)"
   ]
  },
  {
   "cell_type": "code",
   "execution_count": 75,
   "metadata": {
    "collapsed": true
   },
   "outputs": [],
   "source": [
    "import pandas as pd"
   ]
  },
  {
   "cell_type": "code",
   "execution_count": 76,
   "metadata": {
    "collapsed": true
   },
   "outputs": [],
   "source": [
    "def get_angles(sim):\n",
    "    \n",
    "    times = []\n",
    "    nmp = []\n",
    "    lid = []\n",
    "    for ts in sim.universe.trajectory:\n",
    "        \n",
    "        times.append(ts.time)\n",
    "        nmp.append(theta_NMP(sim.universe))\n",
    "        lid.append(theta_LID(sim.universe))\n",
    "        \n",
    "    sim.data['angles'] = pd.DataFrame({'nmp': nmp, 'lid': lid}, index=pd.Float64Index(times, name='time'))  "
   ]
  },
  {
   "cell_type": "code",
   "execution_count": 77,
   "metadata": {
    "collapsed": false
   },
   "outputs": [],
   "source": [
    "b.map(get_angles, processes=4)"
   ]
  },
  {
   "cell_type": "code",
   "execution_count": 28,
   "metadata": {
    "collapsed": true
   },
   "outputs": [],
   "source": [
    "%matplotlib inline"
   ]
  },
  {
   "cell_type": "code",
   "execution_count": 86,
   "metadata": {
    "collapsed": false
   },
   "outputs": [],
   "source": [
    "df = b.data.retrieve('angles', by='name')"
   ]
  },
  {
   "cell_type": "code",
   "execution_count": 87,
   "metadata": {
    "collapsed": false
   },
   "outputs": [
    {
     "data": {
      "text/html": [
       "<div>\n",
       "<table border=\"1\" class=\"dataframe\">\n",
       "  <thead>\n",
       "    <tr style=\"text-align: right;\">\n",
       "      <th></th>\n",
       "      <th></th>\n",
       "      <th>lid</th>\n",
       "      <th>nmp</th>\n",
       "    </tr>\n",
       "    <tr>\n",
       "      <th></th>\n",
       "      <th>time</th>\n",
       "      <th></th>\n",
       "      <th></th>\n",
       "    </tr>\n",
       "  </thead>\n",
       "  <tbody>\n",
       "    <tr>\n",
       "      <th rowspan=\"30\" valign=\"top\">adk_dims_co_1</th>\n",
       "      <th>0.000000</th>\n",
       "      <td>107.746361</td>\n",
       "      <td>43.693527</td>\n",
       "    </tr>\n",
       "    <tr>\n",
       "      <th>1.000000</th>\n",
       "      <td>108.688110</td>\n",
       "      <td>43.912292</td>\n",
       "    </tr>\n",
       "    <tr>\n",
       "      <th>2.000000</th>\n",
       "      <td>109.066360</td>\n",
       "      <td>44.909145</td>\n",
       "    </tr>\n",
       "    <tr>\n",
       "      <th>3.000000</th>\n",
       "      <td>110.141846</td>\n",
       "      <td>44.895779</td>\n",
       "    </tr>\n",
       "    <tr>\n",
       "      <th>4.000000</th>\n",
       "      <td>109.701851</td>\n",
       "      <td>45.501038</td>\n",
       "    </tr>\n",
       "    <tr>\n",
       "      <th>5.000000</th>\n",
       "      <td>111.087746</td>\n",
       "      <td>46.060654</td>\n",
       "    </tr>\n",
       "    <tr>\n",
       "      <th>6.000000</th>\n",
       "      <td>111.192871</td>\n",
       "      <td>45.659397</td>\n",
       "    </tr>\n",
       "    <tr>\n",
       "      <th>7.000000</th>\n",
       "      <td>112.437393</td>\n",
       "      <td>46.636307</td>\n",
       "    </tr>\n",
       "    <tr>\n",
       "      <th>8.000000</th>\n",
       "      <td>112.418472</td>\n",
       "      <td>46.410358</td>\n",
       "    </tr>\n",
       "    <tr>\n",
       "      <th>8.999999</th>\n",
       "      <td>113.344925</td>\n",
       "      <td>46.747562</td>\n",
       "    </tr>\n",
       "    <tr>\n",
       "      <th>9.999999</th>\n",
       "      <td>114.676765</td>\n",
       "      <td>46.581314</td>\n",
       "    </tr>\n",
       "    <tr>\n",
       "      <th>10.999999</th>\n",
       "      <td>115.421257</td>\n",
       "      <td>46.709526</td>\n",
       "    </tr>\n",
       "    <tr>\n",
       "      <th>11.999999</th>\n",
       "      <td>116.892441</td>\n",
       "      <td>47.075382</td>\n",
       "    </tr>\n",
       "    <tr>\n",
       "      <th>12.999999</th>\n",
       "      <td>117.279480</td>\n",
       "      <td>47.763039</td>\n",
       "    </tr>\n",
       "    <tr>\n",
       "      <th>13.999999</th>\n",
       "      <td>117.428337</td>\n",
       "      <td>47.482304</td>\n",
       "    </tr>\n",
       "    <tr>\n",
       "      <th>14.999999</th>\n",
       "      <td>117.955544</td>\n",
       "      <td>48.119770</td>\n",
       "    </tr>\n",
       "    <tr>\n",
       "      <th>15.999999</th>\n",
       "      <td>118.185013</td>\n",
       "      <td>48.688992</td>\n",
       "    </tr>\n",
       "    <tr>\n",
       "      <th>16.999999</th>\n",
       "      <td>119.132088</td>\n",
       "      <td>48.849361</td>\n",
       "    </tr>\n",
       "    <tr>\n",
       "      <th>17.999999</th>\n",
       "      <td>118.234650</td>\n",
       "      <td>49.023621</td>\n",
       "    </tr>\n",
       "    <tr>\n",
       "      <th>18.999999</th>\n",
       "      <td>119.742760</td>\n",
       "      <td>49.321907</td>\n",
       "    </tr>\n",
       "    <tr>\n",
       "      <th>19.999999</th>\n",
       "      <td>121.935890</td>\n",
       "      <td>49.106030</td>\n",
       "    </tr>\n",
       "    <tr>\n",
       "      <th>20.999999</th>\n",
       "      <td>122.340157</td>\n",
       "      <td>49.097511</td>\n",
       "    </tr>\n",
       "    <tr>\n",
       "      <th>21.999999</th>\n",
       "      <td>123.494911</td>\n",
       "      <td>48.814301</td>\n",
       "    </tr>\n",
       "    <tr>\n",
       "      <th>22.999999</th>\n",
       "      <td>124.488907</td>\n",
       "      <td>48.738827</td>\n",
       "    </tr>\n",
       "    <tr>\n",
       "      <th>23.999999</th>\n",
       "      <td>124.620743</td>\n",
       "      <td>48.582165</td>\n",
       "    </tr>\n",
       "    <tr>\n",
       "      <th>24.999998</th>\n",
       "      <td>124.241600</td>\n",
       "      <td>48.843987</td>\n",
       "    </tr>\n",
       "    <tr>\n",
       "      <th>25.999998</th>\n",
       "      <td>124.441284</td>\n",
       "      <td>48.992779</td>\n",
       "    </tr>\n",
       "    <tr>\n",
       "      <th>26.999998</th>\n",
       "      <td>125.163155</td>\n",
       "      <td>49.616123</td>\n",
       "    </tr>\n",
       "    <tr>\n",
       "      <th>27.999998</th>\n",
       "      <td>125.363747</td>\n",
       "      <td>49.676521</td>\n",
       "    </tr>\n",
       "    <tr>\n",
       "      <th>28.999998</th>\n",
       "      <td>126.429077</td>\n",
       "      <td>50.299141</td>\n",
       "    </tr>\n",
       "    <tr>\n",
       "      <th>...</th>\n",
       "      <th>...</th>\n",
       "      <td>...</td>\n",
       "      <td>...</td>\n",
       "    </tr>\n",
       "    <tr>\n",
       "      <th rowspan=\"30\" valign=\"top\">adk_dims_co_2</th>\n",
       "      <th>61.999996</th>\n",
       "      <td>143.301971</td>\n",
       "      <td>65.546333</td>\n",
       "    </tr>\n",
       "    <tr>\n",
       "      <th>62.999996</th>\n",
       "      <td>143.740723</td>\n",
       "      <td>65.866051</td>\n",
       "    </tr>\n",
       "    <tr>\n",
       "      <th>63.999996</th>\n",
       "      <td>144.299698</td>\n",
       "      <td>66.695663</td>\n",
       "    </tr>\n",
       "    <tr>\n",
       "      <th>64.999996</th>\n",
       "      <td>144.038910</td>\n",
       "      <td>66.779984</td>\n",
       "    </tr>\n",
       "    <tr>\n",
       "      <th>65.999996</th>\n",
       "      <td>143.514374</td>\n",
       "      <td>67.615723</td>\n",
       "    </tr>\n",
       "    <tr>\n",
       "      <th>66.999996</th>\n",
       "      <td>143.292450</td>\n",
       "      <td>68.065170</td>\n",
       "    </tr>\n",
       "    <tr>\n",
       "      <th>67.999996</th>\n",
       "      <td>143.996490</td>\n",
       "      <td>68.216766</td>\n",
       "    </tr>\n",
       "    <tr>\n",
       "      <th>68.999996</th>\n",
       "      <td>144.913437</td>\n",
       "      <td>68.320290</td>\n",
       "    </tr>\n",
       "    <tr>\n",
       "      <th>69.999996</th>\n",
       "      <td>143.540009</td>\n",
       "      <td>68.696655</td>\n",
       "    </tr>\n",
       "    <tr>\n",
       "      <th>70.999996</th>\n",
       "      <td>144.514389</td>\n",
       "      <td>69.490463</td>\n",
       "    </tr>\n",
       "    <tr>\n",
       "      <th>71.999996</th>\n",
       "      <td>144.775299</td>\n",
       "      <td>69.618584</td>\n",
       "    </tr>\n",
       "    <tr>\n",
       "      <th>72.999996</th>\n",
       "      <td>144.561462</td>\n",
       "      <td>69.948677</td>\n",
       "    </tr>\n",
       "    <tr>\n",
       "      <th>73.999996</th>\n",
       "      <td>145.137131</td>\n",
       "      <td>70.329880</td>\n",
       "    </tr>\n",
       "    <tr>\n",
       "      <th>74.999995</th>\n",
       "      <td>144.606354</td>\n",
       "      <td>70.028976</td>\n",
       "    </tr>\n",
       "    <tr>\n",
       "      <th>75.999995</th>\n",
       "      <td>144.171646</td>\n",
       "      <td>70.462669</td>\n",
       "    </tr>\n",
       "    <tr>\n",
       "      <th>76.999995</th>\n",
       "      <td>143.871414</td>\n",
       "      <td>70.004959</td>\n",
       "    </tr>\n",
       "    <tr>\n",
       "      <th>77.999995</th>\n",
       "      <td>143.581940</td>\n",
       "      <td>70.039040</td>\n",
       "    </tr>\n",
       "    <tr>\n",
       "      <th>78.999995</th>\n",
       "      <td>144.594818</td>\n",
       "      <td>69.985107</td>\n",
       "    </tr>\n",
       "    <tr>\n",
       "      <th>79.999995</th>\n",
       "      <td>144.558426</td>\n",
       "      <td>70.148636</td>\n",
       "    </tr>\n",
       "    <tr>\n",
       "      <th>80.999995</th>\n",
       "      <td>145.245392</td>\n",
       "      <td>69.879143</td>\n",
       "    </tr>\n",
       "    <tr>\n",
       "      <th>81.999995</th>\n",
       "      <td>145.288910</td>\n",
       "      <td>70.435394</td>\n",
       "    </tr>\n",
       "    <tr>\n",
       "      <th>82.999995</th>\n",
       "      <td>145.182144</td>\n",
       "      <td>70.611862</td>\n",
       "    </tr>\n",
       "    <tr>\n",
       "      <th>83.999995</th>\n",
       "      <td>144.800522</td>\n",
       "      <td>70.610153</td>\n",
       "    </tr>\n",
       "    <tr>\n",
       "      <th>84.999995</th>\n",
       "      <td>144.772598</td>\n",
       "      <td>70.824272</td>\n",
       "    </tr>\n",
       "    <tr>\n",
       "      <th>85.999995</th>\n",
       "      <td>144.929245</td>\n",
       "      <td>71.161125</td>\n",
       "    </tr>\n",
       "    <tr>\n",
       "      <th>86.999995</th>\n",
       "      <td>144.982040</td>\n",
       "      <td>71.233696</td>\n",
       "    </tr>\n",
       "    <tr>\n",
       "      <th>87.999995</th>\n",
       "      <td>144.851288</td>\n",
       "      <td>71.082558</td>\n",
       "    </tr>\n",
       "    <tr>\n",
       "      <th>88.999995</th>\n",
       "      <td>144.478210</td>\n",
       "      <td>70.630051</td>\n",
       "    </tr>\n",
       "    <tr>\n",
       "      <th>89.999995</th>\n",
       "      <td>144.938492</td>\n",
       "      <td>71.176178</td>\n",
       "    </tr>\n",
       "    <tr>\n",
       "      <th>90.999995</th>\n",
       "      <td>145.331528</td>\n",
       "      <td>71.269325</td>\n",
       "    </tr>\n",
       "  </tbody>\n",
       "</table>\n",
       "<p>289 rows × 2 columns</p>\n",
       "</div>"
      ],
      "text/plain": [
       "                                lid        nmp\n",
       "              time                            \n",
       "adk_dims_co_1 0.000000   107.746361  43.693527\n",
       "              1.000000   108.688110  43.912292\n",
       "              2.000000   109.066360  44.909145\n",
       "              3.000000   110.141846  44.895779\n",
       "              4.000000   109.701851  45.501038\n",
       "              5.000000   111.087746  46.060654\n",
       "              6.000000   111.192871  45.659397\n",
       "              7.000000   112.437393  46.636307\n",
       "              8.000000   112.418472  46.410358\n",
       "              8.999999   113.344925  46.747562\n",
       "              9.999999   114.676765  46.581314\n",
       "              10.999999  115.421257  46.709526\n",
       "              11.999999  116.892441  47.075382\n",
       "              12.999999  117.279480  47.763039\n",
       "              13.999999  117.428337  47.482304\n",
       "              14.999999  117.955544  48.119770\n",
       "              15.999999  118.185013  48.688992\n",
       "              16.999999  119.132088  48.849361\n",
       "              17.999999  118.234650  49.023621\n",
       "              18.999999  119.742760  49.321907\n",
       "              19.999999  121.935890  49.106030\n",
       "              20.999999  122.340157  49.097511\n",
       "              21.999999  123.494911  48.814301\n",
       "              22.999999  124.488907  48.738827\n",
       "              23.999999  124.620743  48.582165\n",
       "              24.999998  124.241600  48.843987\n",
       "              25.999998  124.441284  48.992779\n",
       "              26.999998  125.163155  49.616123\n",
       "              27.999998  125.363747  49.676521\n",
       "              28.999998  126.429077  50.299141\n",
       "...                             ...        ...\n",
       "adk_dims_co_2 61.999996  143.301971  65.546333\n",
       "              62.999996  143.740723  65.866051\n",
       "              63.999996  144.299698  66.695663\n",
       "              64.999996  144.038910  66.779984\n",
       "              65.999996  143.514374  67.615723\n",
       "              66.999996  143.292450  68.065170\n",
       "              67.999996  143.996490  68.216766\n",
       "              68.999996  144.913437  68.320290\n",
       "              69.999996  143.540009  68.696655\n",
       "              70.999996  144.514389  69.490463\n",
       "              71.999996  144.775299  69.618584\n",
       "              72.999996  144.561462  69.948677\n",
       "              73.999996  145.137131  70.329880\n",
       "              74.999995  144.606354  70.028976\n",
       "              75.999995  144.171646  70.462669\n",
       "              76.999995  143.871414  70.004959\n",
       "              77.999995  143.581940  70.039040\n",
       "              78.999995  144.594818  69.985107\n",
       "              79.999995  144.558426  70.148636\n",
       "              80.999995  145.245392  69.879143\n",
       "              81.999995  145.288910  70.435394\n",
       "              82.999995  145.182144  70.611862\n",
       "              83.999995  144.800522  70.610153\n",
       "              84.999995  144.772598  70.824272\n",
       "              85.999995  144.929245  71.161125\n",
       "              86.999995  144.982040  71.233696\n",
       "              87.999995  144.851288  71.082558\n",
       "              88.999995  144.478210  70.630051\n",
       "              89.999995  144.938492  71.176178\n",
       "              90.999995  145.331528  71.269325\n",
       "\n",
       "[289 rows x 2 columns]"
      ]
     },
     "execution_count": 87,
     "metadata": {},
     "output_type": "execute_result"
    }
   ],
   "source": [
    "df"
   ]
  },
  {
   "cell_type": "code",
   "execution_count": 89,
   "metadata": {
    "collapsed": false
   },
   "outputs": [
    {
     "data": {
      "text/plain": [
       "<matplotlib.axes._subplots.AxesSubplot at 0x7f0d7bbe7050>"
      ]
     },
     "execution_count": 89,
     "metadata": {},
     "output_type": "execute_result"
    },
    {
     "data": {
      "image/png": "[encoded data removed]",
      "text/plain": [
       "<matplotlib.figure.Figure at 0x7f0d7bd0ca50>"
      ]
     },
     "metadata": {},
     "output_type": "display_data"
    }
   ],
   "source": [
    "df.mean(level=1).plot(yerr=df.sem(level=1))"
   ]
  },
  {
   "cell_type": "markdown",
   "metadata": {},
   "source": [
    "## Bonus plot"
   ]
  },
  {
   "cell_type": "code",
   "execution_count": 94,
   "metadata": {
    "collapsed": false
   },
   "outputs": [
    {
     "data": {
      "text/plain": [
       "<matplotlib.text.Text at 0x7f0d7bdad510>"
      ]
     },
     "execution_count": 94,
     "metadata": {},
     "output_type": "execute_result"
    },
    {
     "data": {
      "image/png": "[encoded data removed]",
      "text/plain": [
       "<matplotlib.figure.Figure at 0x7f0d7b8e0b50>"
      ]
     },
     "metadata": {},
     "output_type": "display_data"
    }
   ],
   "source": [
    "fig = plt.figure(figsize=(7, 7))\n",
    "ax1 = plt.subplot(2,1,1)\n",
    "ax2 = plt.subplot(2,1,2)\n",
    "\n",
    "for name, group in df.groupby(level=0):\n",
    "    group.reset_index()['lid'].plot(label=name[-1], ax=ax1, x='times', legend=True)\n",
    "    group.reset_index()['nmp'].plot(label=name[-1], ax=ax2, x='times', legend=True)\n",
    "    \n",
    "ax1.set_ylabel('lid angle ($\\circ$)')\n",
    "ax1.set_xlabel('time (ps)')\n",
    "ax2.set_ylabel('nmp angle ($\\circ$)')\n",
    "ax2.set_xlabel('time (ps)')"
   ]
  }
 ],
 "metadata": {
  "kernelspec": {
   "display_name": "Python 2",
   "language": "python2",
   "name": "python2"
  },
  "language_info": {
   "codemirror_mode": {
    "name": "ipython",
    "version": 2
   },
   "file_extension": ".py",
   "mimetype": "text/x-python",
   "name": "python",
   "nbconvert_exporter": "python",
   "pygments_lexer": "ipython2",
   "version": "2.7.10"
  }
 },
 "nbformat": 4,
 "nbformat_minor": 0
}
