{
 "cells": [
  {
   "cell_type": "markdown",
   "metadata": {},
   "source": [
    "# More trajectory analysis with MDAnalysis\n",
    "\n",
    "This notebook contains additional examples for how to use MDAnalysis. These examples could not be included into the workshop due to time constraints."
   ]
  },
  {
   "cell_type": "code",
   "execution_count": 2,
   "metadata": {
    "collapsed": false
   },
   "outputs": [],
   "source": [
    "import matplotlib.pyplot as plt\n",
    "import seaborn.apionly as sns\n",
    "%matplotlib inline\n",
    "\n",
    "plt.style.use('ggplot')\n",
    "sns.set_style('ticks')\n",
    "\n",
    "import MDAnalysis.tests.datafiles as data\n",
    "import numpy as np\n",
    "import MDAnalysis as mda\n",
    "from MDAnalysis.analysis.rms import rmsd"
   ]
  },
  {
   "cell_type": "markdown",
   "metadata": {},
   "source": [
    "All the examples use example trajectories available from the Dropbox folder [CECAM_Workshop/MDAnalysis](https://www.dropbox.com/sh/ln0klc9j7mhvxkg/AAB0gMcPPsrDhdVrM2PWmopXa?dl=0) (or follow the [command line download instructions](http://becksteinlab.github.io/MDAnalysis-workshop/datadownload.html#data-download)). In the following it is assumed that these trajectories reside in a directory `./CECAM_Workshop/MDAnalysis`."
   ]
  },
  {
   "cell_type": "code",
   "execution_count": 3,
   "metadata": {
    "collapsed": true
   },
   "outputs": [],
   "source": [
    "top = \"./CECAM_Workshop/MDAnalysis/Optional/md.gro\"\n",
    "trj = \"./CECAM_Workshop/MDAnalysis/Optional/md_fit_first-10ns-s10.xtc\"\n",
    "\n",
    "u = mda.Universe(top, trj)"
   ]
  },
  {
   "cell_type": "markdown",
   "metadata": {},
   "source": [
    "## MSD\n",
    "Calculate the mean square displacement over all water molecules. This is not a very meaningful calculation because the periodic boundary conditions are not taken into account; in order to calculate e.g., the diffusion coefficient, one has to unwrap the water trajectories. "
   ]
  },
  {
   "cell_type": "code",
   "execution_count": 4,
   "metadata": {
    "collapsed": false
   },
   "outputs": [],
   "source": [
    "u = mda.Universe(top, trj)\n",
    "ow = u.select_atoms(\"name OW\")\n",
    "x0 = ow.positions.copy()\n",
    "data = np.zeros((len(u.trajectory), 2))\n",
    "for ts in u.trajectory:\n",
    "    data[ts.frame,:] = ts.time, np.mean(np.sum(np.square(ow.positions - x0), axis=1))"
   ]
  },
  {
   "cell_type": "code",
   "execution_count": 10,
   "metadata": {
    "collapsed": false
   },
   "outputs": [
    {
     "data": {
      "image/png": "[encoded data removed]",
      "text/plain": [
       "<matplotlib.figure.Figure at 0x1148ac910>"
      ]
     },
     "metadata": {},
     "output_type": "display_data"
    }
   ],
   "source": [
    "fig = plt.figure(figsize=(4,2))\n",
    "ax = fig.add_subplot(111)\n",
    "color = sns.color_palette()[1]\n",
    "ax.fill_between(data[:,0], data[:,1], alpha=0.3, color=color)\n",
    "ax.plot(data[:,0], data[:,1], color=color, linewidth=2)\n",
    "sns.despine(ax=ax)\n",
    "ax.set_xlabel(\"time (ps)\")\n",
    "ax.set_ylabel(r\"water OW MSD($\\AA$)\")\n",
    "plt.tight_layout()\n",
    "fig.savefig(\"ow_msd.pdf\")"
   ]
  },
  {
   "cell_type": "markdown",
   "metadata": {},
   "source": [
    "## Ca RMSF\n",
    "From analysis.rms.RMSF"
   ]
  },
  {
   "cell_type": "code",
   "execution_count": 7,
   "metadata": {
    "collapsed": false
   },
   "outputs": [],
   "source": [
    "import numpy as np\n",
    "import MDAnalysis as mda\n",
    "\n",
    "#u = mda.Universe(\"topol.tpr\", \"trj.xtc\")\n",
    "ca = u.select_atoms(\"name CA\")\n",
    "means = np.zeros((len(ca), 3))\n",
    "sumsq = np.zeros_like(means)\n",
    "for k, ts in enumerate(u.trajectory):\n",
    "    sumsq += (k/(k+1.0)) * (ca.positions - means)**2\n",
    "    means[:] = (k*means + ca.positions)/(k+1.0)\n",
    "rmsf = np.sqrt(sumsq.sum(axis=1)/(k+1.0))"
   ]
  },
  {
   "cell_type": "code",
   "execution_count": 9,
   "metadata": {
    "collapsed": false,
    "scrolled": true
   },
   "outputs": [
    {
     "data": {
      "image/png": "[encoded data removed]",
      "text/plain": [
       "<matplotlib.figure.Figure at 0x1145f8090>"
      ]
     },
     "metadata": {},
     "output_type": "display_data"
    }
   ],
   "source": [
    "fig = plt.figure(figsize=(4,2))\n",
    "ax = fig.add_subplot(111)\n",
    "color = sns.color_palette()[2]\n",
    "ax.fill_between(ca.residues.resids, rmsf, alpha=0.3, color=color)\n",
    "ax.plot(ca.residues.resids, rmsf, lw=2, color=color)\n",
    "sns.despine(ax=ax)\n",
    "ax.set_xlabel(\"Residue\")\n",
    "ax.set_ylabel(r\"C$_\\alpha$ RMSF ($\\AA$)\")\n",
    "ax.set_xlim(1, max(ca.residues.resids))\n",
    "plt.tight_layout()\n",
    "fig.savefig(\"ca_rmsf.pdf\")"
   ]
  },
  {
   "cell_type": "markdown",
   "metadata": {},
   "source": [
    "## LeafletFinder "
   ]
  },
  {
   "cell_type": "markdown",
   "metadata": {},
   "source": [
    "Track the self assembly of a lipid membrane around a protein. The trajectories are also available in the dropbox folder [./CECAM_Workshop/MDAnalysis/Optional/TRPV1_small/MD](https://www.dropbox.com/sh/ln0klc9j7mhvxkg/AACUQTVBcMO3_NzsZFpBy2zZa/Optional/TRPV1_small/MD?dl=0).\n",
    "\n",
    "Below we implement the key steps in the *LeafletFinder* algorithm (see [1])\n",
    "\n",
    "[1] N. Michaud-Agrawal, E. J. Denning, T. B. Woolf, and O. Beckstein. MDAnalysis: A toolkit for the analysis of molecular dynamics simulations. J Comp Chem, 32:2319–2327, 2011. doi: [10.1002/jcc.21787](http://doi.org/10.1002/jcc.21787)."
   ]
  },
  {
   "cell_type": "code",
   "execution_count": 11,
   "metadata": {
    "collapsed": false
   },
   "outputs": [],
   "source": [
    "pdb = \"./CECAM_Workshop/MDAnalysis/Optional/TRPV1_small/MD/md.pdb\"\n",
    "xtc = \"./CECAM_Workshop/MDAnalysis/Optional/TRPV1_small/MD/md_centered.xtc\"\n",
    "\n",
    "u = mda.Universe(pdb, xtc)\n",
    "\n",
    "u.trajectory[-1]\n",
    "\n",
    "headgroup_atoms = u.select_atoms(\"name P*\")\n",
    "x = headgroup_atoms.positions"
   ]
  },
  {
   "cell_type": "code",
   "execution_count": 12,
   "metadata": {
    "collapsed": true
   },
   "outputs": [],
   "source": [
    "from MDAnalysis.lib.distances import distance_array\n",
    "adj = (distance_array(x, x) < 12)"
   ]
  },
  {
   "cell_type": "code",
   "execution_count": 23,
   "metadata": {
    "collapsed": false
   },
   "outputs": [],
   "source": [
    "import networkx as nx \n",
    "leaflets = sorted([list(component) for component in nx.connected_components(nx.Graph(adj))], key=len, reverse=True)\n",
    "\n",
    "A_lipids = headgroup_atoms[leaflets[0]].residues \n",
    "B_lipids = headgroup_atoms[leaflets[1]].residues"
   ]
  },
  {
   "cell_type": "code",
   "execution_count": 24,
   "metadata": {
    "collapsed": false,
    "scrolled": true
   },
   "outputs": [
    {
     "data": {
      "text/plain": [
       "3"
      ]
     },
     "execution_count": 24,
     "metadata": {},
     "output_type": "execute_result"
    }
   ],
   "source": [
    "len(leaflets)"
   ]
  },
  {
   "cell_type": "markdown",
   "metadata": {},
   "source": [
    "See the [MDAnalysis.analysis.leaflets](http://pythonhosted.org/MDAnalysis/documentation_pages/analysis/leaflet.html) module for a full-fledged implementation."
   ]
  },
  {
   "cell_type": "code",
   "execution_count": null,
   "metadata": {
    "collapsed": true
   },
   "outputs": [],
   "source": []
  }
 ],
 "metadata": {
  "kernelspec": {
   "display_name": "Python 2",
   "language": "python",
   "name": "python2"
  },
  "language_info": {
   "codemirror_mode": {
    "name": "ipython",
    "version": 2
   },
   "file_extension": ".py",
   "mimetype": "text/x-python",
   "name": "python",
   "nbconvert_exporter": "python",
   "pygments_lexer": "ipython2",
   "version": "2.7.11"
  }
 },
 "nbformat": 4,
 "nbformat_minor": 0
}
