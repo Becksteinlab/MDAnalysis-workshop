{
 "metadata": {
  "kernelspec": {
   "display_name": "Python 2",
   "language": "python",
   "name": "python2"
  },
  "language_info": {
   "codemirror_mode": {
    "name": "ipython",
    "version": 2
   },
   "file_extension": ".py",
   "mimetype": "text/x-python",
   "name": "python",
   "nbconvert_exporter": "python",
   "pygments_lexer": "ipython2",
   "version": "2.7.3"
  },
  "name": "",
  "signature": "sha256:f051e3dd6510041f05492fc7fc9ceb7676f8409d675ee5b430f70617d5443f8d"
 },
 "nbformat": 3,
 "nbformat_minor": 0,
 "worksheets": [
  {
   "cells": [
    {
     "cell_type": "heading",
     "level": 1,
     "metadata": {},
     "source": [
      "MDAnalysis Tutorial "
     ]
    },
    {
     "cell_type": "heading",
     "level": 2,
     "metadata": {},
     "source": [
      "Preparations"
     ]
    },
    {
     "cell_type": "heading",
     "level": 3,
     "metadata": {},
     "source": [
      "Loading MDAnalysis"
     ]
    },
    {
     "cell_type": "code",
     "collapsed": false,
     "input": [
      "import numpy as np\n",
      "import MDAnalysis\n",
      "from MDAnalysis.tests.datafiles import PSF, DCD\n",
      "\n",
      "import os\n",
      "%matplotlib inline\n",
      "import matplotlib.pyplot as plt"
     ],
     "language": "python",
     "metadata": {},
     "outputs": [],
     "prompt_number": 1
    },
    {
     "cell_type": "heading",
     "level": 2,
     "metadata": {},
     "source": [
      "Basics"
     ]
    },
    {
     "cell_type": "heading",
     "level": 3,
     "metadata": {},
     "source": [
      "Universe and AtomGroup"
     ]
    },
    {
     "cell_type": "markdown",
     "metadata": {},
     "source": [
      "MDAnalysis is object oriented. Molecular systems consist of Atom objects (instances of the class MDAnalysis.core.AtomGroup.Atom), which are grouped in AtomGroup instances. You build the AtomGroup of your system by loading a topology (list of atoms and possibly their connectivity) together with a trajectory (coordinate information) into the central data structure, the Universe object:"
     ]
    },
    {
     "cell_type": "code",
     "collapsed": false,
     "input": [
      "u = MDAnalysis.Universe(PSF, DCD)\n",
      "print(u)"
     ],
     "language": "python",
     "metadata": {},
     "outputs": [
      {
       "output_type": "stream",
       "stream": "stdout",
       "text": [
        "<Universe with 3341 atoms and 3365 bonds>\n"
       ]
      }
     ],
     "prompt_number": 2
    },
    {
     "cell_type": "markdown",
     "metadata": {},
     "source": [
      "The atoms are stored in the attribute atoms of the MDAnalysis.core.AtomGroup.Universe:"
     ]
    },
    {
     "cell_type": "code",
     "collapsed": false,
     "input": [
      "print(u.atoms)"
     ],
     "language": "python",
     "metadata": {},
     "outputs": [
      {
       "output_type": "stream",
       "stream": "stdout",
       "text": [
        "<AtomGroup with 3341 atoms>\n"
       ]
      }
     ],
     "prompt_number": 3
    },
    {
     "cell_type": "code",
     "collapsed": false,
     "input": [
      "list(u.atoms[:5])"
     ],
     "language": "python",
     "metadata": {},
     "outputs": [
      {
       "metadata": {},
       "output_type": "pyout",
       "prompt_number": 4,
       "text": [
        "[<Atom 1: N of type 56 of resname MET, resid 1 and segid 4AKE>,\n",
        " <Atom 2: HT1 of type 2 of resname MET, resid 1 and segid 4AKE>,\n",
        " <Atom 3: HT2 of type 2 of resname MET, resid 1 and segid 4AKE>,\n",
        " <Atom 4: HT3 of type 2 of resname MET, resid 1 and segid 4AKE>,\n",
        " <Atom 5: CA of type 22 of resname MET, resid 1 and segid 4AKE>]"
       ]
      }
     ],
     "prompt_number": 4
    },
    {
     "cell_type": "markdown",
     "metadata": {},
     "source": [
      "Any AtomGroup knows the residues that the atoms belong to via the attribute residues, which produces a ResidueGroup. A ResidueGroup acts like a list of Residue objects:"
     ]
    },
    {
     "cell_type": "code",
     "collapsed": false,
     "input": [
      "u.atoms[100:130].residues"
     ],
     "language": "python",
     "metadata": {},
     "outputs": [
      {
       "metadata": {},
       "output_type": "pyout",
       "prompt_number": 5,
       "text": [
        "<ResidueGroup [<Residue LEU, 6>, <Residue GLY, 7>, <Residue ALA, 8>]>"
       ]
      }
     ],
     "prompt_number": 5
    },
    {
     "cell_type": "markdown",
     "metadata": {},
     "source": [
      "Larger organizational units are Segment instances, for example one protein or all the solvent molecules or simply the whole system. Atom, AtomGroup, Residue, and ResidueGroup have an attribute segments that will list the segment IDs (\u201csegids\u201d) as a SegmentGroup:"
     ]
    },
    {
     "cell_type": "code",
     "collapsed": false,
     "input": [
      "u.atoms.segments"
     ],
     "language": "python",
     "metadata": {},
     "outputs": [
      {
       "metadata": {},
       "output_type": "pyout",
       "prompt_number": 6,
       "text": [
        "<SegmentGroup [<Segment 4AKE>]>"
       ]
      }
     ],
     "prompt_number": 6
    },
    {
     "cell_type": "markdown",
     "metadata": {},
     "source": [
      "The converse is also true: each \u201chigher\u201d level in the hierarchy also know about the Residue and Atom instances it contains. For example, to list the atoms of the ResidueGroup we had before:"
     ]
    },
    {
     "cell_type": "code",
     "collapsed": false,
     "input": [
      "r = u.atoms[100:130].residues\n",
      "r.atoms"
     ],
     "language": "python",
     "metadata": {},
     "outputs": [
      {
       "metadata": {},
       "output_type": "pyout",
       "prompt_number": 7,
       "text": [
        "<AtomGroup with 36 atoms>"
       ]
      }
     ],
     "prompt_number": 7
    },
    {
     "cell_type": "heading",
     "level": 4,
     "metadata": {},
     "source": [
      "Exercise 1"
     ]
    },
    {
     "cell_type": "markdown",
     "metadata": {},
     "source": [
      "What residue (\u201cresname\u201d) does the last atom belong to in the above example?"
     ]
    },
    {
     "cell_type": "code",
     "collapsed": false,
     "input": [
      "r = u.atoms[100:130].residues\n",
      "r.atoms[-1]"
     ],
     "language": "python",
     "metadata": {},
     "outputs": [
      {
       "metadata": {},
       "output_type": "pyout",
       "prompt_number": 8,
       "text": [
        "<Atom 136: O of type 70 of resname ALA, resid 8 and segid 4AKE>"
       ]
      }
     ],
     "prompt_number": 8
    },
    {
     "cell_type": "markdown",
     "metadata": {},
     "source": [
      "Why does the expression"
     ]
    },
    {
     "cell_type": "code",
     "collapsed": false,
     "input": [
      "len(u.atoms[100:130]) == len(u.atoms[100:130].residues.atoms)"
     ],
     "language": "python",
     "metadata": {},
     "outputs": [
      {
       "metadata": {},
       "output_type": "pyout",
       "prompt_number": 9,
       "text": [
        "False"
       ]
      }
     ],
     "prompt_number": 9
    },
    {
     "cell_type": "markdown",
     "metadata": {},
     "source": [
      "return false? Because the complete residues contain more atoms than the arbitrary slice of atoms."
     ]
    },
    {
     "cell_type": "markdown",
     "metadata": {},
     "source": [
      "How many residues are in the Universe u?"
     ]
    },
    {
     "cell_type": "code",
     "collapsed": false,
     "input": [
      "len(u.atoms.residues)\n",
      "u.atoms.numberOfResidues()"
     ],
     "language": "python",
     "metadata": {},
     "outputs": [
      {
       "metadata": {},
       "output_type": "pyout",
       "prompt_number": 10,
       "text": [
        "214"
       ]
      }
     ],
     "prompt_number": 10
    },
    {
     "cell_type": "markdown",
     "metadata": {},
     "source": [
      "How do you get a list of the residue names (such as `[\"Ala\", \"Gly\", \"Gly\", \"Asp\", ...]`) and residue numbers (\u201cresid\u201d) for atoms 1000 to 1300? And as a list of tuples `(resname, resid)` (Hint: `zip()`)?:"
     ]
    },
    {
     "cell_type": "code",
     "collapsed": false,
     "input": [
      "resnames = u.atoms[999:1300].resnames()\n",
      "resids = u.atoms[999:1300].resids()\n",
      "zip(resnames, resids)"
     ],
     "language": "python",
     "metadata": {},
     "outputs": [
      {
       "metadata": {},
       "output_type": "pyout",
       "prompt_number": 11,
       "text": [
        "[('LEU', 67),\n",
        " ('VAL', 68),\n",
        " ('LYS', 69),\n",
        " ('GLU', 70),\n",
        " ('ARG', 71),\n",
        " ('ILE', 72),\n",
        " ('ALA', 73),\n",
        " ('GLN', 74),\n",
        " ('GLU', 75),\n",
        " ('ASP', 76),\n",
        " ('CYS', 77),\n",
        " ('ARG', 78),\n",
        " ('ASN', 79),\n",
        " ('GLY', 80),\n",
        " ('PHE', 81),\n",
        " ('LEU', 82),\n",
        " ('LEU', 83),\n",
        " ('ASP', 84),\n",
        " ('GLY', 85),\n",
        " ('PHE', 86)]"
       ]
      }
     ],
     "prompt_number": 11
    },
    {
     "cell_type": "markdown",
     "metadata": {},
     "source": [
      "How do you obtain the resid and the resname for the 100th residue? (Hint: investigate the Residue object interactively with TAB completion)"
     ]
    },
    {
     "cell_type": "code",
     "collapsed": false,
     "input": [
      "r100 = u.atoms.residues[99]\n",
      "print(r100.id, r100.name)"
     ],
     "language": "python",
     "metadata": {},
     "outputs": [
      {
       "output_type": "stream",
       "stream": "stdout",
       "text": [
        "(100, 'GLY')\n"
       ]
      }
     ],
     "prompt_number": 12
    },
    {
     "cell_type": "markdown",
     "metadata": {},
     "source": [
      "How many segments are there?"
     ]
    },
    {
     "cell_type": "code",
     "collapsed": false,
     "input": [
      "len(u.segments)\n",
      "len(u.atoms.segments)\n",
      "u.atoms.numberOfSegments()"
     ],
     "language": "python",
     "metadata": {},
     "outputs": [
      {
       "metadata": {},
       "output_type": "pyout",
       "prompt_number": 13,
       "text": [
        "1"
       ]
      }
     ],
     "prompt_number": 13
    },
    {
     "cell_type": "markdown",
     "metadata": {},
     "source": [
      "What is the segment identifier of the first Segment?"
     ]
    },
    {
     "cell_type": "code",
     "collapsed": false,
     "input": [
      "s1 = u.segments[0]\n",
      "s1.id"
     ],
     "language": "python",
     "metadata": {},
     "outputs": [
      {
       "metadata": {},
       "output_type": "pyout",
       "prompt_number": 14,
       "text": [
        "'4AKE'"
       ]
      }
     ],
     "prompt_number": 14
    },
    {
     "cell_type": "heading",
     "level": 3,
     "metadata": {},
     "source": [
      "Selections"
     ]
    },
    {
     "cell_type": "markdown",
     "metadata": {},
     "source": [
      "MDAnalysis comes with a fairly complete atom selection facility. Primarily, one uses the method [selectAtoms()](http://docs.mdanalysis.org/documentation_pages/selections.html) of a Universe:"
     ]
    },
    {
     "cell_type": "code",
     "collapsed": false,
     "input": [
      "CA = u.selectAtoms(\"protein and name CA\")\n",
      "CA"
     ],
     "language": "python",
     "metadata": {},
     "outputs": [
      {
       "metadata": {},
       "output_type": "pyout",
       "prompt_number": 15,
       "text": [
        "<AtomGroup with 214 atoms>"
       ]
      }
     ],
     "prompt_number": 15
    },
    {
     "cell_type": "markdown",
     "metadata": {},
     "source": [
      "but really any AtomGroup has a selectAtoms() method:"
     ]
    },
    {
     "cell_type": "code",
     "collapsed": false,
     "input": [
      "acidic = CA.selectAtoms(\"resname ASP or resname GLU\")\n",
      "acidic"
     ],
     "language": "python",
     "metadata": {},
     "outputs": [
      {
       "metadata": {},
       "output_type": "pyout",
       "prompt_number": 16,
       "text": [
        "<AtomGroup with 35 atoms>"
       ]
      }
     ],
     "prompt_number": 16
    },
    {
     "cell_type": "code",
     "collapsed": false,
     "input": [
      "acidic.residues"
     ],
     "language": "python",
     "metadata": {},
     "outputs": [
      {
       "metadata": {},
       "output_type": "pyout",
       "prompt_number": 17,
       "text": [
        "<ResidueGroup [<Residue GLU, 22>, <Residue ASP, 33>, <Residue GLU, 44>, <Residue ASP, 51>, <Residue ASP, 54>, <Residue ASP, 61>, <Residue GLU, 62>, <Residue GLU, 70>, <Residue GLU, 75>, <Residue ASP, 76>, <Residue ASP, 84>, <Residue ASP, 94>, <Residue GLU, 98>, <Residue ASP, 104>, <Residue GLU, 108>, <Residue ASP, 110>, <Residue ASP, 113>, <Residue GLU, 114>, <Residue ASP, 118>, <Residue GLU, 143>, <Residue ASP, 146>, <Residue ASP, 147>, <Residue GLU, 151>, <Residue GLU, 152>, <Residue ASP, 158>, <Residue ASP, 159>, <Residue GLU, 161>, <Residue GLU, 162>, <Residue GLU, 170>, <Residue GLU, 185>, <Residue GLU, 187>, <Residue ASP, 197>, <Residue GLU, 204>, <Residue ASP, 208>, <Residue GLU, 210>]>"
       ]
      }
     ],
     "prompt_number": 17
    },
    {
     "cell_type": "heading",
     "level": 4,
     "metadata": {},
     "source": [
      "Exercise 2"
     ]
    },
    {
     "cell_type": "markdown",
     "metadata": {},
     "source": [
      "Select the range of resids 100 to 200 (\u201c100-200\u201d) with a selection. Compare the result to what you get by slicing the u.atoms.residues appropriately.\n",
      "\n",
      "Which approach would you prefer to use in a analysis script?\n",
      "\n",
      "Solution:"
     ]
    },
    {
     "cell_type": "code",
     "collapsed": false,
     "input": [
      "u.selectAtoms(\"resid 100-200\")"
     ],
     "language": "python",
     "metadata": {},
     "outputs": [
      {
       "metadata": {},
       "output_type": "pyout",
       "prompt_number": 18,
       "text": [
        "<AtomGroup with 1609 atoms>"
       ]
      }
     ],
     "prompt_number": 18
    },
    {
     "cell_type": "markdown",
     "metadata": {},
     "source": [
      "Compare to the slicing solution (doing an element-wise comparison, i.e. residue by residue in each list()):"
     ]
    },
    {
     "cell_type": "code",
     "collapsed": false,
     "input": [
      "r = u.atoms.residues[99:200]\n",
      "r.atoms"
     ],
     "language": "python",
     "metadata": {},
     "outputs": [
      {
       "metadata": {},
       "output_type": "pyout",
       "prompt_number": 19,
       "text": [
        "<AtomGroup with 1609 atoms>"
       ]
      }
     ],
     "prompt_number": 19
    },
    {
     "cell_type": "code",
     "collapsed": false,
     "input": [
      "list(u.selectAtoms(\"resid 100-200\").residues) == list(u.atoms.residues[99:200])"
     ],
     "language": "python",
     "metadata": {},
     "outputs": [
      {
       "metadata": {},
       "output_type": "pyout",
       "prompt_number": 20,
       "text": [
        "True"
       ]
      }
     ],
     "prompt_number": 20
    },
    {
     "cell_type": "markdown",
     "metadata": {},
     "source": [
      "If one wants to get specific residues in scripts one typically uses selections instead of slicing because the index in the slice might not correspond to the actual residue ids (minus 1): If a number of residues (e.g. 150-160) are missing from the structure then the selection will simply give you residues 100-149 and 151-200 but the slice 99:200 would give you residues 100-149 and 161-209."
     ]
    },
    {
     "cell_type": "markdown",
     "metadata": {},
     "source": [
      "Select all residues that do not contain a C\u03b2 (\u201cCB\u201d) atom. How many are there? What residue names did you find?\n",
      "\n",
      "Solution:"
     ]
    },
    {
     "cell_type": "code",
     "collapsed": false,
     "input": [
      "sel = u.selectAtoms(\"(byres name CA) and not (byres name CB)\").residues\n",
      "len(sel)"
     ],
     "language": "python",
     "metadata": {},
     "outputs": [
      {
       "metadata": {},
       "output_type": "pyout",
       "prompt_number": 21,
       "text": [
        "20"
       ]
      }
     ],
     "prompt_number": 21
    },
    {
     "cell_type": "markdown",
     "metadata": {},
     "source": [
      "These are all Glycines, as can be seen by comparing the residue groups element-wise:"
     ]
    },
    {
     "cell_type": "code",
     "collapsed": false,
     "input": [
      "glycines = u.selectAtoms(\"resname GLY\")\n",
      "list(sel) == list(glycines.residues)"
     ],
     "language": "python",
     "metadata": {},
     "outputs": [
      {
       "metadata": {},
       "output_type": "pyout",
       "prompt_number": 22,
       "text": [
        "True"
       ]
      }
     ],
     "prompt_number": 22
    },
    {
     "cell_type": "heading",
     "level": 2,
     "metadata": {},
     "source": [
      "Working with AtomGroups"
     ]
    },
    {
     "cell_type": "markdown",
     "metadata": {},
     "source": [
      "An AtomGroup has a large number of methods attributes defined that provide information about the atoms such as names, indices, or the coordinates in the positions attribute:"
     ]
    },
    {
     "cell_type": "code",
     "collapsed": false,
     "input": [
      "CA = u.selectAtoms(\"protein and name CA\")\n",
      "r = CA.positions\n",
      "r.shape"
     ],
     "language": "python",
     "metadata": {},
     "outputs": [
      {
       "metadata": {},
       "output_type": "pyout",
       "prompt_number": 23,
       "text": [
        "(214, 3)"
       ]
      }
     ],
     "prompt_number": 23
    },
    {
     "cell_type": "markdown",
     "metadata": {},
     "source": [
      "The resulting output is a numpy.ndarray. The main purpose of MDAnalysis is to get trajectory data into numpy arrays!"
     ]
    },
    {
     "cell_type": "heading",
     "level": 3,
     "metadata": {},
     "source": [
      "Important methods and attributes of AtomGroup"
     ]
    },
    {
     "cell_type": "markdown",
     "metadata": {},
     "source": [
      "The coordinates positions attribute is probably the most important information that you can get from an AtomGroup.\n",
      "\n",
      "Other quantities that can be easily calculated for a AtomGroup are\n",
      "\n",
      "* the center of mass centerOfMass() and the center of geoemtry (or centroid) centerOfGeometry() (equivalent to centroid());\n",
      "\n",
      "* the total mass totalMass();\n",
      "\n",
      "* the total charge totalCharge() (if partial charges are defined in the topology);\n",
      "\n",
      "* the radius of gyration\n",
      "\\begin{equation*}\n",
      "    R_{\\text{gyr}} = \\sqrt{\\frac{1}{M}\\sum_{i=1}^{N}m_{i}(\\textbf{r}_{i} - \\textbf{R})^{2}}\n",
      "\\end{equation*}\n",
      " with radiusOfGyration();\n",
      "\n",
      "* the principal axes $\\textbf{p}_{1}$,$\\textbf{p}_{2}$,$\\textbf{p}_{3}$ from principalAxes() via a diagonalization of the tensor of inertia momentOfInertia(),\n",
      "\\begin{align*}\n",
      "    \\Lambda = U^{T}IU && \\text{with}\\,U = (\\textbf{p}_{1},\\textbf{p}_{2},\\textbf{p}_{3})\n",
      "\\end{align*}\n",
      "where $U$ is a rotation matrix whose columns are the eigenvectors that form the principal axes, $\\Lambda$ is is the diagonal matrix of eigenvalues (sorted from largest to smallest) known as the principal moments of inertia, and $I = \\sum_{i=1}^{N}m_{i}[\\textbf{(r}_{i}\\cdot\\textbf{r}_{i})\\sum_{a=1}^{3}\\textbf{e}_{\\alpha}\\otimes\\textbf{e}_{\\alpha} - \\textbf{r}_{i}\\otimes\\textbf{r}_{i}]$ is the tensor of inertia."
     ]
    },
    {
     "cell_type": "heading",
     "level": 4,
     "metadata": {},
     "source": [
      "Exercise 3"
     ]
    },
    {
     "cell_type": "markdown",
     "metadata": {},
     "source": [
      "AdK consists of three domains:\n",
      "\n",
      "* CORE residues 1-29, 60-121, 160-214 (gray)\n",
      "* NMP residues 30-59 (blue)\n",
      "* LID residues 122-159 (yellow)"
     ]
    },
    {
     "cell_type": "markdown",
     "metadata": {},
     "source": [
      "Calculate the center of mass and the center of geometry for each of the three domains."
     ]
    },
    {
     "cell_type": "code",
     "collapsed": false,
     "input": [
      "domains = {\n",
      "    'CORE': u.selectAtoms(\"protein and (resid 1-29 or resid 60-121 or resid 160-214)\"),\n",
      "    'NMP': u.selectAtoms(\"protein and resid 30-59\"),\n",
      "    'LID': u.selectAtoms(\"protein and resid 122-159\")\n",
      "    }\n",
      "cg = dict((name, dom.centroid()) for name,dom in domains.items())\n",
      "cm = dict((name, dom.centerOfMass()) for name,dom in domains.items())\n",
      "print(cg)"
     ],
     "language": "python",
     "metadata": {},
     "outputs": [
      {
       "output_type": "stream",
       "stream": "stdout",
       "text": [
        "{'LID': array([-15.16074944,   2.11599636,  -4.37305355], dtype=float32), 'CORE': array([ 4.43884087,  2.05389476,  1.63895261], dtype=float32), 'NMP': array([ -2.99990702, -13.62531662,  -2.93235731], dtype=float32)}\n"
       ]
      }
     ],
     "prompt_number": 24
    },
    {
     "cell_type": "code",
     "collapsed": false,
     "input": [
      "print(cm)"
     ],
     "language": "python",
     "metadata": {},
     "outputs": [
      {
       "output_type": "stream",
       "stream": "stdout",
       "text": [
        "{'LID': array([-15.11337499,   2.12292226,  -4.40910485]), 'CORE': array([ 4.564116  ,  2.08700105,  1.54992649]), 'NMP': array([ -3.20330174, -13.60247613,  -3.06221538])}\n"
       ]
      }
     ],
     "prompt_number": 25
    },
    {
     "cell_type": "markdown",
     "metadata": {},
     "source": [
      "What are the distances between the centers of mass?\n",
      "\n",
      "(Hint: you can use numpy.linalg.norm() or calculate it manually.)"
     ]
    },
    {
     "cell_type": "code",
     "collapsed": false,
     "input": [
      "from numpy.linalg import norm\n",
      "print(norm(cm['CORE'] - cm['NMP']))"
     ],
     "language": "python",
     "metadata": {},
     "outputs": [
      {
       "output_type": "stream",
       "stream": "stdout",
       "text": [
        "18.1042626244\n"
       ]
      }
     ],
     "prompt_number": 26
    },
    {
     "cell_type": "code",
     "collapsed": false,
     "input": [
      "print(norm(cm['CORE'] - cm['LID']))"
     ],
     "language": "python",
     "metadata": {},
     "outputs": [
      {
       "output_type": "stream",
       "stream": "stdout",
       "text": [
        "20.5600339602\n"
       ]
      }
     ],
     "prompt_number": 27
    },
    {
     "cell_type": "code",
     "collapsed": false,
     "input": [
      "print(norm(cm['NMP'] - cm['LID']))"
     ],
     "language": "python",
     "metadata": {},
     "outputs": [
      {
       "output_type": "stream",
       "stream": "stdout",
       "text": [
        "19.7725089609\n"
       ]
      }
     ],
     "prompt_number": 28
    },
    {
     "cell_type": "markdown",
     "metadata": {},
     "source": [
      "Does it matter to use center of mass vs center of geometry?"
     ]
    },
    {
     "cell_type": "code",
     "collapsed": false,
     "input": [
      "print(norm(cg['CORE'] - cg['NMP']))"
     ],
     "language": "python",
     "metadata": {},
     "outputs": [
      {
       "output_type": "stream",
       "stream": "stdout",
       "text": [
        "17.9463\n"
       ]
      }
     ],
     "prompt_number": 29
    },
    {
     "cell_type": "code",
     "collapsed": false,
     "input": [
      "print(norm(cg['CORE'] - cg['LID']))"
     ],
     "language": "python",
     "metadata": {},
     "outputs": [
      {
       "output_type": "stream",
       "stream": "stdout",
       "text": [
        "20.501\n"
       ]
      }
     ],
     "prompt_number": 32
    },
    {
     "cell_type": "code",
     "collapsed": false,
     "input": [
      "print(norm(cg['NMP'] - cg['LID']))"
     ],
     "language": "python",
     "metadata": {},
     "outputs": [
      {
       "output_type": "stream",
       "stream": "stdout",
       "text": [
        "19.9437\n"
       ]
      }
     ],
     "prompt_number": 30
    },
    {
     "cell_type": "markdown",
     "metadata": {},
     "source": [
      "AdK undergoes a conformational transition during which the NMP and LID domain move relative to the CORE domain. The movement can be characterized by two angles, $\\theta_{\\text{NMP}}$ and $\\theta_{\\text{LID}}$, which are defined between the centers of geometry of the backbone and C\u03b2 atoms between groups of residues [Beckstein2009]:\n",
      "\n",
      "Definition of $\\theta_{\\text{NMP}}$\n",
      "\n",
      "    A: 115-125, B: 90-100, C: 35-55\n",
      "    \n",
      "Definition of $\\theta_{\\text{LID}}$\n",
      "\n",
      "    A: 179-185, B: 115-125, C: 125-153\n",
      "    \n",
      "The angle between vectors $\\vec{BA}$ and $\\vec{BC}$ is\n",
      "\\begin{equation*}\n",
      "    \\theta = \\arccos\\left(\\frac{\\vec{BA}\\cdot\\vec{BC}}{|\\vec{BA}||\\vec{BC}|}\\right)\n",
      "\\end{equation*}"
     ]
    },
    {
     "cell_type": "markdown",
     "metadata": {},
     "source": [
      "Write a function `theta_NMP()` that takes a Universe as an argument and computes $\\theta_{\\text{NMP}}$:\n",
      "\n",
      "`theta_NMP(u)`: Calculate the NMP-CORE angle for E. coli AdK in degrees from Universe u"
     ]
    },
    {
     "cell_type": "heading",
     "level": 5,
     "metadata": {},
     "source": [
      "Calculation of the domain angles of AdK"
     ]
    },
    {
     "cell_type": "code",
     "collapsed": true,
     "input": [
      "import numpy as np\n",
      "from numpy.linalg import norm\n",
      "\n",
      "def theta_NMP(u):\n",
      "    \"\"\"Calculate the NMP-CORE angle for E. coli AdK in degrees\"\"\"\n",
      "    C = u.selectAtoms(\"resid 115:125 and (backbone or name CB)\").centerOfGeometry()\n",
      "    B = u.selectAtoms(\"resid 90:100 and (backbone or name CB)\").centerOfGeometry()\n",
      "    A = u.selectAtoms(\"resid 35:55 and (backbone or name CB)\").centerOfGeometry()\n",
      "    BA = A - B\n",
      "    BC = C - B\n",
      "    theta = np.arccos(np.dot(BA, BC)/(norm(BA)*norm(BC)))\n",
      "    return np.rad2deg(theta)\n",
      "\n",
      "def theta_LID(u):\n",
      "    \"\"\"Calculate the LID-CORE angle for E. coli AdK in degrees\"\"\"\n",
      "    C = u.selectAtoms(\"resid 179:185 and (backbone or name CB)\").centerOfGeometry()\n",
      "    B = u.selectAtoms(\"resid 115:125 and (backbone or name CB)\").centerOfGeometry()\n",
      "    A = u.selectAtoms(\"resid 125:153 and (backbone or name CB)\").centerOfGeometry()\n",
      "    BA = A - B\n",
      "    BC = C - B\n",
      "    theta = np.arccos(np.dot(BA, BC)/(norm(BA)*norm(BC)))\n",
      "    return np.rad2deg(theta)"
     ],
     "language": "python",
     "metadata": {},
     "outputs": [],
     "prompt_number": 31
    },
    {
     "cell_type": "code",
     "collapsed": false,
     "input": [
      "theta_NMP(u)"
     ],
     "language": "python",
     "metadata": {},
     "outputs": [
      {
       "metadata": {},
       "output_type": "pyout",
       "prompt_number": 32,
       "text": [
        "44.124821"
       ]
      }
     ],
     "prompt_number": 32
    },
    {
     "cell_type": "code",
     "collapsed": false,
     "input": [
      "theta_LID(u)"
     ],
     "language": "python",
     "metadata": {},
     "outputs": [
      {
       "metadata": {},
       "output_type": "pyout",
       "prompt_number": 33,
       "text": [
        "107.00881"
       ]
      }
     ],
     "prompt_number": 33
    },
    {
     "cell_type": "heading",
     "level": 3,
     "metadata": {},
     "source": [
      "Processing AtomGroups"
     ]
    },
    {
     "cell_type": "markdown",
     "metadata": {},
     "source": [
      "You can directly write a AtomGroup to a file with the write() method:"
     ]
    },
    {
     "cell_type": "code",
     "collapsed": true,
     "input": [
      "CORE = u.selectAtoms(\"resid 1:29 or resid 60:121 or resid 160:214\")\n",
      "CORE.write(\"AdK_CORE.pdb\")"
     ],
     "language": "python",
     "metadata": {},
     "outputs": [],
     "prompt_number": 34
    },
    {
     "cell_type": "code",
     "collapsed": true,
     "input": [
      "CORE.write_selection(\"CORE.ndx\", name=\"CORE\")"
     ],
     "language": "python",
     "metadata": {},
     "outputs": [],
     "prompt_number": 35
    },
    {
     "cell_type": "markdown",
     "metadata": {},
     "source": [
      "(The extension determines the file type.)\n",
      "\n",
      "You can do fairly complicated things on the fly, such as writing the hydration shell around a protein to a file"
     ]
    },
    {
     "cell_type": "markdown",
     "metadata": {},
     "source": [
      "```python\n",
      "u.selectAtoms(\"byres (name OW and around 4.0 protein)\").write(\"hydration_shell.pdb\")\n",
      "```"
     ]
    },
    {
     "cell_type": "markdown",
     "metadata": {},
     "source": [
      "for further analysis or visualization.\n",
      "\n",
      "You can also write Gromacs index files (in case you don\u2019t like make_ndx...) with the write_selection() method:"
     ]
    },
    {
     "cell_type": "markdown",
     "metadata": {},
     "source": [
      "```python\n",
      "CORE.write_selection(\"CORE.ndx\", name=\"CORE\")\n",
      "```"
     ]
    },
    {
     "cell_type": "heading",
     "level": 2,
     "metadata": {},
     "source": [
      "Trajectory Analysis"
     ]
    },
    {
     "cell_type": "markdown",
     "metadata": {},
     "source": [
      "The Universe binds together the static topology (which atoms, how are they connected, what un-changing properties do the atoms possess (such as partial charge), ...) and the changing coordinate information, which is stored in the trajectory.\n",
      "\n",
      "The length of a trajectory (number of frames) is"
     ]
    },
    {
     "cell_type": "code",
     "collapsed": false,
     "input": [
      "len(u.trajectory)"
     ],
     "language": "python",
     "metadata": {},
     "outputs": [
      {
       "metadata": {},
       "output_type": "pyout",
       "prompt_number": 36,
       "text": [
        "98"
       ]
      }
     ],
     "prompt_number": 36
    },
    {
     "cell_type": "markdown",
     "metadata": {},
     "source": [
      "The standard way to assess each time step (or frame) in a trajectory is to iterate over the Universe.trajectory attribute (which is an instance of Reader class):"
     ]
    },
    {
     "cell_type": "code",
     "collapsed": false,
     "input": [
      "for ts in u.trajectory:\n",
      "    print(\"Frame: %5d, Time: %8.3f ps\" % (ts.frame, u.trajectory.time))\n",
      "    print(\"Rgyr: %g A\" % (u.atoms.radiusOfGyration(), ))"
     ],
     "language": "python",
     "metadata": {},
     "outputs": [
      {
       "output_type": "stream",
       "stream": "stdout",
       "text": [
        "Frame:     1, Time:    1.000 ps\n",
        "Rgyr: 16.669 A\n",
        "Frame:     2, Time:    2.000 ps\n",
        "Rgyr: 16.6732 A\n",
        "Frame:     3, Time:    3.000 ps\n",
        "Rgyr: 16.7315 A\n",
        "Frame:     4, Time:    4.000 ps\n",
        "Rgyr: 16.7223 A\n",
        "Frame:     5, Time:    5.000 ps\n",
        "Rgyr: 16.744 A\n",
        "Frame:     6, Time:    6.000 ps\n",
        "Rgyr: 16.7185 A\n",
        "Frame:     7, Time:    7.000 ps\n",
        "Rgyr: 16.7741 A\n",
        "Frame:     8, Time:    8.000 ps\n",
        "Rgyr: 16.7764 A\n",
        "Frame:     9, Time:    9.000 ps\n",
        "Rgyr: 16.7894 A\n",
        "Frame:    10, Time:   10.000 ps\n",
        "Rgyr: 16.8289 A"
       ]
      },
      {
       "output_type": "stream",
       "stream": "stdout",
       "text": [
        "\n",
        "Frame:    11, Time:   11.000 ps\n",
        "Rgyr: 16.8521 A\n",
        "Frame:    12, Time:   12.000 ps\n",
        "Rgyr: 16.8549 A\n",
        "Frame:    13, Time:   13.000 ps\n",
        "Rgyr: 16.8723 A\n",
        "Frame:    14, Time:   14.000 ps\n",
        "Rgyr: 16.9108 A\n",
        "Frame:    15, Time:   15.000 ps\n",
        "Rgyr: 16.9494 A\n",
        "Frame:    16, Time:   16.000 ps\n",
        "Rgyr: 16.981 A\n",
        "Frame:    17, Time:   17.000 ps\n",
        "Rgyr: 17.0033 A\n",
        "Frame:    18, Time:   18.000 ps\n",
        "Rgyr: 17.0196 A\n",
        "Frame:    19, Time:   19.000 ps\n",
        "Rgyr: 17.0784 A\n",
        "Frame:    20, Time:   20.000 ps\n",
        "Rgyr: 17.1265 A\n",
        "Frame:    21, Time:   21.000 ps\n",
        "Rgyr: 17.1491 A\n",
        "Frame:    22, Time:   22.000 ps\n",
        "Rgyr: 17.1759 A\n",
        "Frame:    23, Time:   23.000 ps\n",
        "Rgyr: 17.2168 A\n",
        "Frame:    24, Time:   24.000 ps\n",
        "Rgyr: 17.2267 A\n",
        "Frame:    25, Time:   25.000 ps\n",
        "Rgyr: 17.2574 A\n",
        "Frame:    26, Time:   26.000 ps\n",
        "Rgyr: 17.3006 A\n",
        "Frame:    27, Time:   27.000 ps\n",
        "Rgyr: 17.3244 A"
       ]
      },
      {
       "output_type": "stream",
       "stream": "stdout",
       "text": [
        "\n",
        "Frame:    28, Time:   28.000 ps\n",
        "Rgyr: 17.3716 A\n",
        "Frame:    29, Time:   29.000 ps\n",
        "Rgyr: 17.4265 A\n",
        "Frame:    30, Time:   30.000 ps\n",
        "Rgyr: 17.4639 A\n",
        "Frame:    31, Time:   31.000 ps\n",
        "Rgyr: 17.524 A\n",
        "Frame:    32, Time:   32.000 ps\n",
        "Rgyr: 17.5426 A\n",
        "Frame:    33, Time:   33.000 ps\n",
        "Rgyr: 17.5981 A\n",
        "Frame:    34, Time:   34.000 ps\n",
        "Rgyr: 17.6389 A\n",
        "Frame:    35, Time:   35.000 ps\n",
        "Rgyr: 17.6945 A\n",
        "Frame:    36, Time:   36.000 ps\n",
        "Rgyr: 17.7392 A\n",
        "Frame:    37, Time:   37.000 ps"
       ]
      },
      {
       "output_type": "stream",
       "stream": "stdout",
       "text": [
        "\n",
        "Rgyr: 17.8015 A\n",
        "Frame:    38, Time:   38.000 ps\n",
        "Rgyr: 17.8213 A\n",
        "Frame:    39, Time:   39.000 ps\n",
        "Rgyr: 17.8712 A\n",
        "Frame:    40, Time:   40.000 ps\n",
        "Rgyr: 17.9209 A\n",
        "Frame:    41, Time:   41.000 ps\n",
        "Rgyr: 17.9416 A\n",
        "Frame:    42, Time:   42.000 ps\n",
        "Rgyr: 18.0115 A\n",
        "Frame:    43, Time:   43.000 ps\n",
        "Rgyr: 18.057 A\n",
        "Frame:    44, Time:   44.000 ps\n",
        "Rgyr: 18.1017 A\n",
        "Frame:    45, Time:   45.000 ps\n",
        "Rgyr: 18.1168 A\n",
        "Frame:    46, Time:   46.000 ps\n",
        "Rgyr: 18.1822 A\n",
        "Frame:    47, Time:   47.000 ps\n",
        "Rgyr: 18.2343 A\n",
        "Frame:    48, Time:   48.000 ps\n",
        "Rgyr: 18.2669 A\n",
        "Frame:    49, Time:   49.000 ps\n",
        "Rgyr: 18.3362 A\n",
        "Frame:    50, Time:   50.000 ps\n",
        "Rgyr: 18.3647 A\n",
        "Frame:    51, Time:   51.000 ps\n",
        "Rgyr: 18.3847 A\n",
        "Frame:    52, Time:   52.000 ps\n",
        "Rgyr: 18.4327 A\n",
        "Frame:    53, Time:   53.000 ps\n",
        "Rgyr: 18.4965 A\n",
        "Frame:    54, Time:   54.000 ps\n",
        "Rgyr: 18.5229 A\n",
        "Frame:    55, Time:   55.000 ps\n",
        "Rgyr: 18.6312 A\n",
        "Frame:    56, Time:   56.000 ps\n",
        "Rgyr: 18.6261 A\n",
        "Frame:    57, Time:   57.000 ps\n",
        "Rgyr: 18.665 A\n",
        "Frame:    58, Time:   58.000 ps\n",
        "Rgyr: 18.7334 A\n",
        "Frame:    59, Time:   59.000 ps\n",
        "Rgyr: 18.8223 A\n",
        "Frame:    60, Time:   60.000 ps\n",
        "Rgyr: 18.8393 A\n",
        "Frame:    61, Time:   61.000 ps\n",
        "Rgyr: 18.8433 A\n",
        "Frame:    62, Time:   62.000 ps\n",
        "Rgyr: 18.8844 A\n",
        "Frame:    63, Time:   63.000 ps\n",
        "Rgyr: 18.9093 A\n",
        "Frame:    64, Time:   64.000 ps\n",
        "Rgyr: 18.9389 A\n",
        "Frame:    65, Time:   65.000 ps\n",
        "Rgyr: 18.9433 A\n",
        "Frame:    66, Time:   66.000 ps\n",
        "Rgyr: 19.0103 A"
       ]
      },
      {
       "output_type": "stream",
       "stream": "stdout",
       "text": [
        "\n",
        "Frame:    67, Time:   67.000 ps\n",
        "Rgyr: 19.0643 A\n",
        "Frame:    68, Time:   68.000 ps\n",
        "Rgyr: 19.0975 A\n",
        "Frame:    69, Time:   69.000 ps\n",
        "Rgyr: 19.1824 A\n",
        "Frame:    70, Time:   70.000 ps\n",
        "Rgyr: 19.2416 A\n",
        "Frame:    71, Time:   71.000 ps\n",
        "Rgyr: 19.285 A\n",
        "Frame:    72, Time:   72.000 ps\n",
        "Rgyr: 19.2705 A\n",
        "Frame:    73, Time:   73.000 ps"
       ]
      },
      {
       "output_type": "stream",
       "stream": "stdout",
       "text": [
        "\n",
        "Rgyr: 19.2502 A\n",
        "Frame:    74, Time:   74.000 ps\n",
        "Rgyr: 19.2766 A\n",
        "Frame:    75, Time:   75.000 ps\n",
        "Rgyr: 19.3199 A\n",
        "Frame:    76, Time:   76.000 ps\n",
        "Rgyr: 19.3502 A\n",
        "Frame:    77, Time:   77.000 ps\n",
        "Rgyr: 19.3695 A\n",
        "Frame:    78, Time:   78.000 ps\n",
        "Rgyr: 19.4071 A\n",
        "Frame:    79, Time:   79.000 ps\n",
        "Rgyr: 19.4312 A\n",
        "Frame:    80, Time:   80.000 ps\n",
        "Rgyr: 19.4423 A\n",
        "Frame:    81, Time:   81.000 ps\n",
        "Rgyr: 19.4571 A\n",
        "Frame:    82, Time:   82.000 ps\n",
        "Rgyr: 19.4617 A\n",
        "Frame:    83, Time:   83.000 ps\n",
        "Rgyr: 19.4597 A\n",
        "Frame:    84, Time:   84.000 ps\n",
        "Rgyr: 19.5003 A\n",
        "Frame:    85, Time:   85.000 ps\n",
        "Rgyr: 19.492 A\n",
        "Frame:    86, Time:   86.000 ps\n",
        "Rgyr: 19.5407 A\n",
        "Frame:    87, Time:   87.000 ps\n",
        "Rgyr: 19.5403 A\n",
        "Frame:    88, Time:   88.000 ps\n",
        "Rgyr: 19.4934 A\n",
        "Frame:    89, Time:   89.000 ps\n",
        "Rgyr: 19.527 A\n",
        "Frame:    90, Time:   90.000 ps\n",
        "Rgyr: 19.5733 A\n",
        "Frame:    91, Time:   91.000 ps\n",
        "Rgyr: 19.5641 A\n",
        "Frame:    92, Time:   92.000 ps\n",
        "Rgyr: 19.5588 A\n",
        "Frame:    93, Time:   93.000 ps\n",
        "Rgyr: 19.5915 A\n",
        "Frame:    94, Time:   94.000 ps\n",
        "Rgyr: 19.562 A\n",
        "Frame:    95, Time:   95.000 ps\n",
        "Rgyr: 19.5606 A\n",
        "Frame:    96, Time:   96.000 ps\n",
        "Rgyr: 19.5506 A\n",
        "Frame:    97, Time:   97.000 ps\n",
        "Rgyr: 19.5684 A\n",
        "Frame:    98, Time:   98.000 ps\n",
        "Rgyr: 19.5916 A\n"
       ]
      }
     ],
     "prompt_number": 37
    },
    {
     "cell_type": "markdown",
     "metadata": {},
     "source": [
      "The time attribute contains the current time step. The Reader only contains information about one time step: imagine a cursor or pointer moving along the trajectory file. Where the cursor points, there\u2019s you current coordinates, frame number, and time.\n",
      "\n",
      "Normally you will collect the data in a list or array, e.g."
     ]
    },
    {
     "cell_type": "code",
     "collapsed": true,
     "input": [
      "Rgyr = []\n",
      "protein = u.selectAtoms(\"protein\")\n",
      "for ts in u.trajectory:\n",
      "   Rgyr.append((u.trajectory.time, protein.radiusOfGyration()))\n",
      "Rgyr = np.array(Rgyr)"
     ],
     "language": "python",
     "metadata": {},
     "outputs": [],
     "prompt_number": 39
    },
    {
     "cell_type": "markdown",
     "metadata": {},
     "source": [
      "The data can be plotted to give the graph below:"
     ]
    },
    {
     "cell_type": "code",
     "collapsed": false,
     "input": [
      "# quick plot\n",
      "import matplotlib.pyplot as plt\n",
      "ax = plt.subplot(111)\n",
      "ax.plot(Rgyr[:,0], Rgyr[:,1], 'r--', lw=2, label=r\"$R_G$\")\n",
      "ax.set_xlabel(\"time (ps)\")\n",
      "ax.set_ylabel(r\"radius of gyration $R_G$ ($\\AA$)\")\n",
      "ax.figure.savefig(\"Rgyr.pdf\")\n",
      "plt.draw()"
     ],
     "language": "python",
     "metadata": {},
     "outputs": [
      {
       "metadata": {},
       "output_type": "display_data",
       "png": "[encoded data removed]",
       "text": [
        "<matplotlib.figure.Figure at 0x10860d5d0>"
       ]
      }
     ],
     "prompt_number": 40
    },
    {
     "cell_type": "markdown",
     "metadata": {},
     "source": [
      "The graph of $R_{G}(t)$ increases over time, indicating an opening up of the AdK enzyme."
     ]
    },
    {
     "cell_type": "heading",
     "level": 4,
     "metadata": {},
     "source": [
      "Exercise 4"
     ]
    },
    {
     "cell_type": "markdown",
     "metadata": {},
     "source": [
      "1. Take the functions to calculate $\\theta_\\text{NMP}$ and $\\theta_\\text{LID}$ and calculate the time series $\\theta_\\text{NMP}(t)$ and $\\theta_\\text{LID}(t)$. Plot them together in one plot.\n",
      "2. Plot $\\theta_\\text{NMP}(t)$ against $\\theta_\\text{LID}(t)$. What does the plot show? Why could such a plot be useful?"
     ]
    },
    {
     "cell_type": "code",
     "collapsed": false,
     "input": [
      "import numpy as np\n",
      "from numpy.linalg import norm\n",
      "\n",
      "def theta_NMP(u):\n",
      "    \"\"\"Calculate the NMP-CORE angle for E. coli AdK in degrees\"\"\"\n",
      "    C = u.selectAtoms(\"resid 115:125 and (backbone or name CB)\").centerOfGeometry()\n",
      "    B = u.selectAtoms(\"resid 90:100 and (backbone or name CB)\").centerOfGeometry()\n",
      "    A = u.selectAtoms(\"resid 35:55 and (backbone or name CB)\").centerOfGeometry()\n",
      "    BA = A - B\n",
      "    BC = C - B\n",
      "    theta = np.arccos(np.dot(BA, BC)/(norm(BA)*norm(BC)))\n",
      "    return np.rad2deg(theta)\n",
      "\n",
      "def theta_LID(u):\n",
      "    \"\"\"Calculate the LID-CORE angle for E. coli AdK in degrees\"\"\"\n",
      "    C = u.selectAtoms(\"resid 179:185 and (backbone or name CB)\").centerOfGeometry()\n",
      "    B = u.selectAtoms(\"resid 115:125 and (backbone or name CB)\").centerOfGeometry()\n",
      "    A = u.selectAtoms(\"resid 125:153 and (backbone or name CB)\").centerOfGeometry()\n",
      "    BA = A - B\n",
      "    BC = C - B\n",
      "    theta = np.arccos(np.dot(BA, BC)/(norm(BA)*norm(BC)))\n",
      "    return np.rad2deg(theta)\n",
      "\n",
      "if __name__ == \"__main__\":\n",
      "    import MDAnalysis\n",
      "    from MDAnalysis.tests.datafiles import PSF, DCD\n",
      "    import matplotlib\n",
      "    import matplotlib.pyplot as plt\n",
      "\n",
      "    u = MDAnalysis.Universe(PSF, DCD)\n",
      "    data = np.array([(u.trajectory.time, theta_NMP(u), theta_LID(u)) for ts in u.trajectory])\n",
      "    time, NMP, LID = data.T\n",
      "\n",
      "\n",
      "    # plotting\n",
      "    degreeFormatter = matplotlib.ticker.FormatStrFormatter(r\"%g$^\\circ$\")\n",
      "    fig = plt.figure(figsize=(6,3))\n",
      "\n",
      "    ax1 = fig.add_subplot(121)\n",
      "    ax1.plot(time, NMP, 'b-', lw=2, label=r\"$\\theta_{\\mathrm{NMP}}$\")\n",
      "    ax1.plot(time, LID, 'r-', lw=2, label=r\"$\\theta_{\\mathrm{LID}}$\")\n",
      "    ax1.set_xlabel(r\"time $t$ (ps)\")\n",
      "    ax1.set_ylabel(r\"angle $\\theta$\")\n",
      "    ax1.yaxis.set_major_formatter(degreeFormatter)\n",
      "    ax1.legend(loc=\"best\")\n",
      "\n",
      "    ax2 = fig.add_subplot(122)\n",
      "    ax2.plot(NMP, LID, 'k-', lw=3)\n",
      "    ax2.set_xlabel(r\"NMP-CORE angle $\\theta_{\\mathrm{NMP}}$\")\n",
      "    ax2.set_ylabel(r\"LID-CORE angle $\\theta_{\\mathrm{LID}}$\")\n",
      "    ax2.xaxis.set_major_formatter(degreeFormatter)\n",
      "    ax2.yaxis.set_major_formatter(degreeFormatter)\n",
      "    ax2.yaxis.tick_right()\n",
      "    ax2.yaxis.set_label_position(\"right\")\n",
      "\n",
      "    fig.subplots_adjust(left=0.12, right=0.88, bottom=0.2, wspace=0.15)\n",
      "\n",
      "    for ext in ('svg', 'pdf', 'png'):\n",
      "        fig.savefig(\"NMP_LID_angle_projection.{0}\".format(ext))"
     ],
     "language": "python",
     "metadata": {},
     "outputs": [
      {
       "metadata": {},
       "output_type": "display_data",
       "png": "[encoded data removed]",
       "text": [
        "<matplotlib.figure.Figure at 0x108f0ea10>"
       ]
      }
     ],
     "prompt_number": 41
    },
    {
     "cell_type": "markdown",
     "metadata": {},
     "source": [
      "Note that one would normally write the code more efficiently and generate the atom groups once and then pass them to a simple function to calculate the angle"
     ]
    },
    {
     "cell_type": "code",
     "collapsed": true,
     "input": [
      "def theta(A, B, C):\n",
      "    \"\"\"Calculate the angle between BA and BC for AtomGroups A, B, C\"\"\"\n",
      "    B_center = B.centroid()\n",
      "    BA = A.centroid() - B_center\n",
      "    BC = C.centroid() - B_center\n",
      "    theta = np.arccos(np.dot(BA, BC)/(norm(BA)*norm(BC)))\n",
      "    return np.rad2deg(theta)"
     ],
     "language": "python",
     "metadata": {},
     "outputs": [],
     "prompt_number": 42
    },
    {
     "cell_type": "heading",
     "level": 3,
     "metadata": {},
     "source": [
      "Bells and whistles"
     ]
    },
    {
     "cell_type": "heading",
     "level": 4,
     "metadata": {},
     "source": [
      "Quick data aquisition"
     ]
    },
    {
     "cell_type": "markdown",
     "metadata": {},
     "source": [
      "Especially useful for interactive analysis in ipython \u2013pylab using list comprehensions (implicit for loops):"
     ]
    },
    {
     "cell_type": "markdown",
     "metadata": {},
     "source": [
      "```python\n",
      "protein = u.selectAtoms(\"protein\")\n",
      "data = np.array([(u.trajectory.time, protein.radiusOfGyration()) for ts in u.trajectory])\n",
      "time, RG = data.T\n",
      "plot(time, RG)\n",
      "```"
     ]
    },
    {
     "cell_type": "heading",
     "level": 4,
     "metadata": {},
     "source": [
      "More on the trajectory iterator"
     ]
    },
    {
     "cell_type": "markdown",
     "metadata": {},
     "source": [
      "One can directly jump to a frame by using \u201cindexing syntax\u201d:"
     ]
    },
    {
     "cell_type": "code",
     "collapsed": false,
     "input": [
      "u.trajectory[50]"
     ],
     "language": "python",
     "metadata": {},
     "outputs": [
      {
       "metadata": {},
       "output_type": "pyout",
       "prompt_number": 43,
       "text": [
        "< Timestep 51 with unit cell dimensions [  0.   0.   0.  90.  90.  90.] >"
       ]
      }
     ],
     "prompt_number": 43
    },
    {
     "cell_type": "code",
     "collapsed": false,
     "input": [
      "ts.frame"
     ],
     "language": "python",
     "metadata": {},
     "outputs": [
      {
       "metadata": {},
       "output_type": "pyout",
       "prompt_number": 44,
       "text": [
        "51"
       ]
      }
     ],
     "prompt_number": 44
    },
    {
     "cell_type": "markdown",
     "metadata": {},
     "source": [
      "You can also slice trajectories, e.g. if you want to start at the 10th frame and go to 10th before the end, and only use every 5th frame:"
     ]
    },
    {
     "cell_type": "code",
     "collapsed": false,
     "input": [
      "for ts in u.trajectory[9:-10:5]:\n",
      "    print(ts.frame)"
     ],
     "language": "python",
     "metadata": {},
     "outputs": [
      {
       "output_type": "stream",
       "stream": "stdout",
       "text": [
        "10\n",
        "15\n",
        "20\n",
        "25\n",
        "30\n",
        "35\n",
        "40\n",
        "45\n",
        "50\n",
        "55\n",
        "60\n",
        "65\n",
        "70\n",
        "75\n",
        "80\n",
        "85\n"
       ]
      }
     ],
     "prompt_number": 45
    },
    {
     "cell_type": "heading",
     "level": 2,
     "metadata": {},
     "source": [
      "Writing Coordinates"
     ]
    },
    {
     "cell_type": "markdown",
     "metadata": {},
     "source": [
      "MDAnalysis also supports writing of data in a range of file formats (see the Table of supported coordinate formats for details). MDAnalysis supports both single frame writers (such as a simple PDB or GRO file) and trajectory writers (e.g. XTC, DCD, but also multi-frame PDB files)."
     ]
    },
    {
     "cell_type": "heading",
     "level": 3,
     "metadata": {},
     "source": [
      "Single frames"
     ]
    },
    {
     "cell_type": "markdown",
     "metadata": {},
     "source": [
      "The most straightforward way to write to a file that can only hold a single frame is to use the write() method of any AtomGroup as already also shown under Processing AtomGroups. For instance, to only write out the protein without solvent to a file in GRO format:"
     ]
    },
    {
     "cell_type": "code",
     "collapsed": true,
     "input": [
      "from MDAnalysis.tests.datafiles import PDB\n",
      "uPDB = MDAnalysis.Universe(PDB)\n",
      "protein = uPDB.selectAtoms(\"protein\")\n",
      "protein.write(\"protein.gro\")"
     ],
     "language": "python",
     "metadata": {},
     "outputs": [],
     "prompt_number": 50
    },
    {
     "cell_type": "markdown",
     "metadata": {},
     "source": [
      "MDAnalysis uses the file suffix to determine the output file format (unless the format keyword is specified) and will raise an exception if it is not suitable for single frame writing."
     ]
    },
    {
     "cell_type": "code",
     "collapsed": false,
     "input": [
      "del uPDB  # clean up this example\n",
      "os.unlink(\"protein.gro\")"
     ],
     "language": "python",
     "metadata": {},
     "outputs": [],
     "prompt_number": 51
    },
    {
     "cell_type": "heading",
     "level": 3,
     "metadata": {},
     "source": [
      "Trajectories"
     ]
    },
    {
     "cell_type": "markdown",
     "metadata": {},
     "source": [
      "The typical use pattern is to\n",
      "\n",
      "1. Get a trajectory writer with MDAnalysis.Writer() (which is the same as MDAnalysis.coordinates.core.writer()), typically specifying in advance how many atoms a frame will contain.\n",
      "2. Use the write() method to write a new time step to the trajectory.\n",
      "3. Close the trajectory with close() (although it is recommended to simply use the writer with the with statement and have the context handler close the file automatically)."
     ]
    },
    {
     "cell_type": "heading",
     "level": 4,
     "metadata": {},
     "source": [
      "Example: Protein-only trajectory"
     ]
    },
    {
     "cell_type": "markdown",
     "metadata": {},
     "source": [
      "In practice, the second step is typically repeated in a loop as in the example below:"
     ]
    },
    {
     "cell_type": "code",
     "collapsed": true,
     "input": [
      "import MDAnalysis\n",
      "from MDAnalysis.tests.datafiles import PDB, XTC\n",
      "\n",
      "uXTC = MDAnalysis.Universe(PDB, XTC)\n",
      "protein = uXTC.selectAtoms(\"protein\")\n",
      "with MDAnalysis.Writer(\"protein.xtc\", protein.numberOfAtoms()) as W:\n",
      "    for ts in u.trajectory:\n",
      "        W.write(protein)"
     ],
     "language": "python",
     "metadata": {},
     "outputs": [],
     "prompt_number": 52
    },
    {
     "cell_type": "markdown",
     "metadata": {},
     "source": [
      "The loop steps through the input trajectory frame by frame. The coordinates of the selection (the AtomGroup protein) change accordingly and are then written as a new frame into the output trajectory.\n",
      "\n",
      "The output trajectory only contains the coordinates of the protein. For this trajectory to be useful, a protein-only topology file also has to be stored, as in the example under Single frames."
     ]
    },
    {
     "cell_type": "code",
     "collapsed": false,
     "input": [
      "del uXTC  # clean up this example\n",
      "os.unlink(\"protein.xtc\")"
     ],
     "language": "python",
     "metadata": {},
     "outputs": [],
     "prompt_number": 53
    },
    {
     "cell_type": "heading",
     "level": 4,
     "metadata": {},
     "source": [
      "Example: Saving dynamic per-atom properties in B-factor"
     ]
    },
    {
     "cell_type": "markdown",
     "metadata": {},
     "source": [
      "It is often very useful to project per-atom properties on the structure. A common approach is to save scalar values in the B-factor field of a PDB file and then color atoms by B-factor (also known as temperature factor or just \u201cbeta\u201d).\n",
      "\n",
      "The following example computes the shift of each atom in AdK relative to a reference structure (line 23). We take as reference the closed conformation (after a structural superposition on the CORE domain with alignto()). The shifts are written into the B-factor with the set_bfactor() method of AtomGroup. Each frame is written out as part of a multi-frame PDB file:"
     ]
    },
    {
     "cell_type": "code",
     "collapsed": false,
     "input": [
      "# project a dynamic property on the structure using the B-factor field\n",
      "\n",
      "import numpy as np\n",
      "import MDAnalysis\n",
      "import MDAnalysis.analysis.align\n",
      "\n",
      "from MDAnalysis.tests.datafiles import PSF, DCD\n",
      "\n",
      "\n",
      "u = MDAnalysis.Universe(PSF, DCD)\n",
      "ref = MDAnalysis.Universe(PSF, DCD)  # copy of u\n",
      "\n",
      "CORE_selection = \"resid 1:29 or resid 60:121 or resid 160:214\"\n",
      "pdbtrj = \"adk_distance_bfac.pdb\"\n",
      "\n",
      "with MDAnalysis.Writer(pdbtrj, multiframe=True, bonds=False, numatoms=u.atoms.numberOfAtoms()) as PDB:\n",
      "    # reference coordinates: set to first frame\n",
      "    ref.trajectory[0]\n",
      "    # iterate through our trajectory\n",
      "    for ts in u.trajectory:\n",
      "        # superimpose on the reference CORE (at t=0)\n",
      "        rmsd = MDAnalysis.analysis.align.alignto(u.atoms, ref.atoms, select=CORE_selection)\n",
      "        distances = np.sqrt(np.sum((u.atoms.positions - ref.atoms.positions)**2, axis=1))\n",
      "        # project displacement on structure via bfactor field\n",
      "        u.atoms.set_bfactor(distances)\n",
      "        PDB.write(u.atoms)\n",
      "        print distances.max()\n",
      "        output_str1 = \\\n",
      "            \"Frame {0}: CORE RMSD before/after superposition: {1[0]:.1f} / {1[1]:.1f} A. \".format(ts.frame, rmsd)\n",
      "#         output_str2 = \"min-max displacement: {0!r:.1f}...{1!r:.1f} A\".format(distances.min(), distances.max())\n",
      "        output_str2 = \"min-max displacement: %3.1f...%3.1f A\" % (distances.min(), distances.max())\n",
      "        output_str = output_str1 + output_str2\n",
      "        print(output_str1)\n",
      "\n",
      "print(\"Wrote PDB trajectory {0} with distances in bfactor field\".format(pdbtrj))"
     ],
     "language": "python",
     "metadata": {},
     "outputs": [
      {
       "output_type": "stream",
       "stream": "stdout",
       "text": [
        "1.43051e-06\n",
        "Frame 1: CORE RMSD before/after superposition: 0.0 / 0.0 A. \n",
        "3.49582"
       ]
      },
      {
       "output_type": "stream",
       "stream": "stdout",
       "text": [
        "\n",
        "Frame 2: CORE RMSD before/after superposition: 0.7 / 0.7 A. \n",
        "3.62015"
       ]
      },
      {
       "output_type": "stream",
       "stream": "stdout",
       "text": [
        "\n",
        "Frame 3: CORE RMSD before/after superposition: 0.8 / 0.8 A. \n",
        "4.21834"
       ]
      },
      {
       "output_type": "stream",
       "stream": "stdout",
       "text": [
        "\n",
        "Frame 4: CORE RMSD before/after superposition: 1.0 / 1.0 A. \n",
        "4.69895"
       ]
      },
      {
       "output_type": "stream",
       "stream": "stdout",
       "text": [
        "\n",
        "Frame 5: CORE RMSD before/after superposition: 1.0 / 1.0 A. \n",
        "6.29009"
       ]
      },
      {
       "output_type": "stream",
       "stream": "stdout",
       "text": [
        "\n",
        "Frame 6: CORE RMSD before/after superposition: 1.1 / 1.1 A. \n",
        "6.38523"
       ]
      },
      {
       "output_type": "stream",
       "stream": "stdout",
       "text": [
        "\n",
        "Frame 7: CORE RMSD before/after superposition: 1.2 / 1.1 A. \n",
        "7.15128"
       ]
      },
      {
       "output_type": "stream",
       "stream": "stdout",
       "text": [
        "\n",
        "Frame 8: CORE RMSD before/after superposition: 1.2 / 1.2 A. \n",
        "7.27715"
       ]
      },
      {
       "output_type": "stream",
       "stream": "stdout",
       "text": [
        "\n",
        "Frame 9: CORE RMSD before/after superposition: 1.3 / 1.2 A. \n",
        "6.63803"
       ]
      },
      {
       "output_type": "stream",
       "stream": "stdout",
       "text": [
        "\n",
        "Frame 10: CORE RMSD before/after superposition: 1.3 / 1.3 A. \n",
        "6.72511"
       ]
      },
      {
       "output_type": "stream",
       "stream": "stdout",
       "text": [
        "\n",
        "Frame 11: CORE RMSD before/after superposition: 1.3 / 1.3 A. \n",
        "7.58652"
       ]
      },
      {
       "output_type": "stream",
       "stream": "stdout",
       "text": [
        "\n",
        "Frame 12: CORE RMSD before/after superposition: 1.4 / 1.4 A. \n",
        "8.01124"
       ]
      },
      {
       "output_type": "stream",
       "stream": "stdout",
       "text": [
        "\n",
        "Frame 13: CORE RMSD before/after superposition: 1.4 / 1.4 A. \n",
        "8.57594"
       ]
      },
      {
       "output_type": "stream",
       "stream": "stdout",
       "text": [
        "\n",
        "Frame 14: CORE RMSD before/after superposition: 1.4 / 1.4 A. \n",
        "8.65065"
       ]
      },
      {
       "output_type": "stream",
       "stream": "stdout",
       "text": [
        "\n",
        "Frame 15: CORE RMSD before/after superposition: 1.4 / 1.4 A. \n",
        "8.64613"
       ]
      },
      {
       "output_type": "stream",
       "stream": "stdout",
       "text": [
        "\n",
        "Frame 16: CORE RMSD before/after superposition: 1.5 / 1.5 A. \n",
        "8.73381"
       ]
      },
      {
       "output_type": "stream",
       "stream": "stdout",
       "text": [
        "\n",
        "Frame 17: CORE RMSD before/after superposition: 1.5 / 1.5 A. \n",
        "8.53048"
       ]
      },
      {
       "output_type": "stream",
       "stream": "stdout",
       "text": [
        "\n",
        "Frame 18: CORE RMSD before/after superposition: 1.5 / 1.5 A. \n",
        "9.26506"
       ]
      },
      {
       "output_type": "stream",
       "stream": "stdout",
       "text": [
        "\n",
        "Frame 19: CORE RMSD before/after superposition: 1.5 / 1.5 A. \n",
        "9.7893"
       ]
      },
      {
       "output_type": "stream",
       "stream": "stdout",
       "text": [
        "\n",
        "Frame 20: CORE RMSD before/after superposition: 1.5 / 1.5 A. \n",
        "10.0429"
       ]
      },
      {
       "output_type": "stream",
       "stream": "stdout",
       "text": [
        "\n",
        "Frame 21: CORE RMSD before/after superposition: 1.6 / 1.5 A. \n",
        "10.318"
       ]
      },
      {
       "output_type": "stream",
       "stream": "stdout",
       "text": [
        "\n",
        "Frame 22: CORE RMSD before/after superposition: 1.6 / 1.6 A. \n",
        "10.2103"
       ]
      },
      {
       "output_type": "stream",
       "stream": "stdout",
       "text": [
        "\n",
        "Frame 23: CORE RMSD before/after superposition: 1.7 / 1.6 A. \n",
        "10.3226"
       ]
      },
      {
       "output_type": "stream",
       "stream": "stdout",
       "text": [
        "\n",
        "Frame 24: CORE RMSD before/after superposition: 1.7 / 1.7 A. \n",
        "11.376"
       ]
      },
      {
       "output_type": "stream",
       "stream": "stdout",
       "text": [
        "\n",
        "Frame 25: CORE RMSD before/after superposition: 1.7 / 1.7 A. \n",
        "11.5325"
       ]
      },
      {
       "output_type": "stream",
       "stream": "stdout",
       "text": [
        "\n",
        "Frame 26: CORE RMSD before/after superposition: 1.8 / 1.7 A. \n",
        "11.4524"
       ]
      },
      {
       "output_type": "stream",
       "stream": "stdout",
       "text": [
        "\n",
        "Frame 27: CORE RMSD before/after superposition: 1.8 / 1.7 A. \n",
        "12.2858"
       ]
      },
      {
       "output_type": "stream",
       "stream": "stdout",
       "text": [
        "\n",
        "Frame 28: CORE RMSD before/after superposition: 1.8 / 1.8 A. \n",
        "12.5413"
       ]
      },
      {
       "output_type": "stream",
       "stream": "stdout",
       "text": [
        "\n",
        "Frame 29: CORE RMSD before/after superposition: 1.9 / 1.8 A. \n",
        "12.7369"
       ]
      },
      {
       "output_type": "stream",
       "stream": "stdout",
       "text": [
        "\n",
        "Frame 30: CORE RMSD before/after superposition: 1.9 / 1.8 A. \n",
        "13.2329"
       ]
      },
      {
       "output_type": "stream",
       "stream": "stdout",
       "text": [
        "\n",
        "Frame 31: CORE RMSD before/after superposition: 1.9 / 1.9 A. \n",
        "13.1283"
       ]
      },
      {
       "output_type": "stream",
       "stream": "stdout",
       "text": [
        "\n",
        "Frame 32: CORE RMSD before/after superposition: 1.9 / 1.9 A. \n",
        "13.7424"
       ]
      },
      {
       "output_type": "stream",
       "stream": "stdout",
       "text": [
        "\n",
        "Frame 33: CORE RMSD before/after superposition: 2.0 / 1.9 A. \n",
        "14.4442"
       ]
      },
      {
       "output_type": "stream",
       "stream": "stdout",
       "text": [
        "\n",
        "Frame 34: CORE RMSD before/after superposition: 2.0 / 1.9 A. \n",
        "14.7789"
       ]
      },
      {
       "output_type": "stream",
       "stream": "stdout",
       "text": [
        "\n",
        "Frame 35: CORE RMSD before/after superposition: 2.0 / 1.9 A. \n",
        "15.0269"
       ]
      },
      {
       "output_type": "stream",
       "stream": "stdout",
       "text": [
        "\n",
        "Frame 36: CORE RMSD before/after superposition: 2.0 / 1.9 A. \n",
        "15.5831"
       ]
      },
      {
       "output_type": "stream",
       "stream": "stdout",
       "text": [
        "\n",
        "Frame 37: CORE RMSD before/after superposition: 2.1 / 1.9 A. \n",
        "15.4322"
       ]
      },
      {
       "output_type": "stream",
       "stream": "stdout",
       "text": [
        "\n",
        "Frame 38: CORE RMSD before/after superposition: 2.1 / 1.9 A. \n",
        "15.7832"
       ]
      },
      {
       "output_type": "stream",
       "stream": "stdout",
       "text": [
        "\n",
        "Frame 39: CORE RMSD before/after superposition: 2.1 / 2.0 A. \n",
        "16.093"
       ]
      },
      {
       "output_type": "stream",
       "stream": "stdout",
       "text": [
        "\n",
        "Frame 40: CORE RMSD before/after superposition: 2.2 / 2.0 A. \n",
        "16.3578"
       ]
      },
      {
       "output_type": "stream",
       "stream": "stdout",
       "text": [
        "\n",
        "Frame 41: CORE RMSD before/after superposition: 2.2 / 2.0 A. \n",
        "16.6448"
       ]
      },
      {
       "output_type": "stream",
       "stream": "stdout",
       "text": [
        "\n",
        "Frame 42: CORE RMSD before/after superposition: 2.2 / 2.0 A. \n",
        "16.9359"
       ]
      },
      {
       "output_type": "stream",
       "stream": "stdout",
       "text": [
        "\n",
        "Frame 43: CORE RMSD before/after superposition: 2.2 / 2.0 A. \n",
        "17.2421"
       ]
      },
      {
       "output_type": "stream",
       "stream": "stdout",
       "text": [
        "\n",
        "Frame 44: CORE RMSD before/after superposition: 2.2 / 2.0 A. \n",
        "17.7207"
       ]
      },
      {
       "output_type": "stream",
       "stream": "stdout",
       "text": [
        "\n",
        "Frame 45: CORE RMSD before/after superposition: 2.2 / 2.0 A. \n",
        "17.9454"
       ]
      },
      {
       "output_type": "stream",
       "stream": "stdout",
       "text": [
        "\n",
        "Frame 46: CORE RMSD before/after superposition: 2.2 / 2.0 A. \n",
        "18.5117"
       ]
      },
      {
       "output_type": "stream",
       "stream": "stdout",
       "text": [
        "\n",
        "Frame 47: CORE RMSD before/after superposition: 2.2 / 2.0 A. \n",
        "18.436"
       ]
      },
      {
       "output_type": "stream",
       "stream": "stdout",
       "text": [
        "\n",
        "Frame 48: CORE RMSD before/after superposition: 2.2 / 2.0 A. \n",
        "18.7399"
       ]
      },
      {
       "output_type": "stream",
       "stream": "stdout",
       "text": [
        "\n",
        "Frame 49: CORE RMSD before/after superposition: 2.3 / 2.1 A. \n",
        "18.458"
       ]
      },
      {
       "output_type": "stream",
       "stream": "stdout",
       "text": [
        "\n",
        "Frame 50: CORE RMSD before/after superposition: 2.3 / 2.1 A. \n",
        "19.4252"
       ]
      },
      {
       "output_type": "stream",
       "stream": "stdout",
       "text": [
        "\n",
        "Frame 51: CORE RMSD before/after superposition: 2.3 / 2.1 A. \n",
        "20.0318"
       ]
      },
      {
       "output_type": "stream",
       "stream": "stdout",
       "text": [
        "\n",
        "Frame 52: CORE RMSD before/after superposition: 2.3 / 2.1 A. \n",
        "19.6097"
       ]
      },
      {
       "output_type": "stream",
       "stream": "stdout",
       "text": [
        "\n",
        "Frame 53: CORE RMSD before/after superposition: 2.3 / 2.1 A. \n",
        "19.339"
       ]
      },
      {
       "output_type": "stream",
       "stream": "stdout",
       "text": [
        "\n",
        "Frame 54: CORE RMSD before/after superposition: 2.3 / 2.1 A. \n",
        "19.8669"
       ]
      },
      {
       "output_type": "stream",
       "stream": "stdout",
       "text": [
        "\n",
        "Frame 55: CORE RMSD before/after superposition: 2.3 / 2.1 A. \n",
        "20.115"
       ]
      },
      {
       "output_type": "stream",
       "stream": "stdout",
       "text": [
        "\n",
        "Frame 56: CORE RMSD before/after superposition: 2.4 / 2.2 A. \n",
        "20.4494"
       ]
      },
      {
       "output_type": "stream",
       "stream": "stdout",
       "text": [
        "\n",
        "Frame 57: CORE RMSD before/after superposition: 2.4 / 2.2 A. \n",
        "20.334"
       ]
      },
      {
       "output_type": "stream",
       "stream": "stdout",
       "text": [
        "\n",
        "Frame 58: CORE RMSD before/after superposition: 2.4 / 2.2 A. \n",
        "20.9264"
       ]
      },
      {
       "output_type": "stream",
       "stream": "stdout",
       "text": [
        "\n",
        "Frame 59: CORE RMSD before/after superposition: 2.5 / 2.3 A. \n",
        "21.0231"
       ]
      },
      {
       "output_type": "stream",
       "stream": "stdout",
       "text": [
        "\n",
        "Frame 60: CORE RMSD before/after superposition: 2.5 / 2.3 A. \n",
        "20.6007"
       ]
      },
      {
       "output_type": "stream",
       "stream": "stdout",
       "text": [
        "\n",
        "Frame 61: CORE RMSD before/after superposition: 2.5 / 2.3 A. \n",
        "20.8394"
       ]
      },
      {
       "output_type": "stream",
       "stream": "stdout",
       "text": [
        "\n",
        "Frame 62: CORE RMSD before/after superposition: 2.5 / 2.3 A. \n",
        "21.3473"
       ]
      },
      {
       "output_type": "stream",
       "stream": "stdout",
       "text": [
        "\n",
        "Frame 63: CORE RMSD before/after superposition: 2.5 / 2.3 A. \n",
        "21.407"
       ]
      },
      {
       "output_type": "stream",
       "stream": "stdout",
       "text": [
        "\n",
        "Frame 64: CORE RMSD before/after superposition: 2.5 / 2.3 A. \n",
        "21.8709"
       ]
      },
      {
       "output_type": "stream",
       "stream": "stdout",
       "text": [
        "\n",
        "Frame 65: CORE RMSD before/after superposition: 2.5 / 2.3 A. \n",
        "22.0701"
       ]
      },
      {
       "output_type": "stream",
       "stream": "stdout",
       "text": [
        "\n",
        "Frame 66: CORE RMSD before/after superposition: 2.6 / 2.3 A. \n",
        "22.4019"
       ]
      },
      {
       "output_type": "stream",
       "stream": "stdout",
       "text": [
        "\n",
        "Frame 67: CORE RMSD before/after superposition: 2.6 / 2.3 A. \n",
        "22.3516"
       ]
      },
      {
       "output_type": "stream",
       "stream": "stdout",
       "text": [
        "\n",
        "Frame 68: CORE RMSD before/after superposition: 2.6 / 2.3 A. \n",
        "22.7034"
       ]
      },
      {
       "output_type": "stream",
       "stream": "stdout",
       "text": [
        "\n",
        "Frame 69: CORE RMSD before/after superposition: 2.6 / 2.4 A. \n",
        "22.878"
       ]
      },
      {
       "output_type": "stream",
       "stream": "stdout",
       "text": [
        "\n",
        "Frame 70: CORE RMSD before/after superposition: 2.7 / 2.4 A. \n",
        "23.3801"
       ]
      },
      {
       "output_type": "stream",
       "stream": "stdout",
       "text": [
        "\n",
        "Frame 71: CORE RMSD before/after superposition: 2.7 / 2.4 A. \n",
        "23.2471"
       ]
      },
      {
       "output_type": "stream",
       "stream": "stdout",
       "text": [
        "\n",
        "Frame 72: CORE RMSD before/after superposition: 2.7 / 2.4 A. \n",
        "23.3641"
       ]
      },
      {
       "output_type": "stream",
       "stream": "stdout",
       "text": [
        "\n",
        "Frame 73: CORE RMSD before/after superposition: 2.7 / 2.4 A. \n",
        "23.203"
       ]
      },
      {
       "output_type": "stream",
       "stream": "stdout",
       "text": [
        "\n",
        "Frame 74: CORE RMSD before/after superposition: 2.7 / 2.4 A. \n",
        "23.5231"
       ]
      },
      {
       "output_type": "stream",
       "stream": "stdout",
       "text": [
        "\n",
        "Frame 75: CORE RMSD before/after superposition: 2.7 / 2.4 A. \n",
        "23.4834"
       ]
      },
      {
       "output_type": "stream",
       "stream": "stdout",
       "text": [
        "\n",
        "Frame 76: CORE RMSD before/after superposition: 2.7 / 2.4 A. \n",
        "23.6752"
       ]
      },
      {
       "output_type": "stream",
       "stream": "stdout",
       "text": [
        "\n",
        "Frame 77: CORE RMSD before/after superposition: 2.7 / 2.4 A. \n",
        "23.4073"
       ]
      },
      {
       "output_type": "stream",
       "stream": "stdout",
       "text": [
        "\n",
        "Frame 78: CORE RMSD before/after superposition: 2.8 / 2.4 A. \n",
        "23.4892"
       ]
      },
      {
       "output_type": "stream",
       "stream": "stdout",
       "text": [
        "\n",
        "Frame 79: CORE RMSD before/after superposition: 2.7 / 2.4 A. \n",
        "23.6236"
       ]
      },
      {
       "output_type": "stream",
       "stream": "stdout",
       "text": [
        "\n",
        "Frame 80: CORE RMSD before/after superposition: 2.7 / 2.4 A. \n",
        "23.444"
       ]
      },
      {
       "output_type": "stream",
       "stream": "stdout",
       "text": [
        "\n",
        "Frame 81: CORE RMSD before/after superposition: 2.8 / 2.4 A. \n",
        "23.2751"
       ]
      },
      {
       "output_type": "stream",
       "stream": "stdout",
       "text": [
        "\n",
        "Frame 82: CORE RMSD before/after superposition: 2.8 / 2.4 A. \n",
        "23.3383"
       ]
      },
      {
       "output_type": "stream",
       "stream": "stdout",
       "text": [
        "\n",
        "Frame 83: CORE RMSD before/after superposition: 2.8 / 2.4 A. \n",
        "23.6996"
       ]
      },
      {
       "output_type": "stream",
       "stream": "stdout",
       "text": [
        "\n",
        "Frame 84: CORE RMSD before/after superposition: 2.8 / 2.4 A. \n",
        "23.6809"
       ]
      },
      {
       "output_type": "stream",
       "stream": "stdout",
       "text": [
        "\n",
        "Frame 85: CORE RMSD before/after superposition: 2.8 / 2.4 A. \n",
        "23.4715"
       ]
      },
      {
       "output_type": "stream",
       "stream": "stdout",
       "text": [
        "\n",
        "Frame 86: CORE RMSD before/after superposition: 2.8 / 2.4 A. \n",
        "23.6593"
       ]
      },
      {
       "output_type": "stream",
       "stream": "stdout",
       "text": [
        "\n",
        "Frame 87: CORE RMSD before/after superposition: 2.8 / 2.4 A. \n",
        "23.9902"
       ]
      },
      {
       "output_type": "stream",
       "stream": "stdout",
       "text": [
        "\n",
        "Frame 88: CORE RMSD before/after superposition: 2.8 / 2.4 A. \n",
        "24.2147"
       ]
      },
      {
       "output_type": "stream",
       "stream": "stdout",
       "text": [
        "\n",
        "Frame 89: CORE RMSD before/after superposition: 2.8 / 2.4 A. \n",
        "23.8419"
       ]
      },
      {
       "output_type": "stream",
       "stream": "stdout",
       "text": [
        "\n",
        "Frame 90: CORE RMSD before/after superposition: 2.8 / 2.4 A. \n",
        "24.2047"
       ]
      },
      {
       "output_type": "stream",
       "stream": "stdout",
       "text": [
        "\n",
        "Frame 91: CORE RMSD before/after superposition: 2.8 / 2.5 A. \n",
        "24.188"
       ]
      },
      {
       "output_type": "stream",
       "stream": "stdout",
       "text": [
        "\n",
        "Frame 92: CORE RMSD before/after superposition: 2.8 / 2.4 A. \n",
        "23.9932"
       ]
      },
      {
       "output_type": "stream",
       "stream": "stdout",
       "text": [
        "\n",
        "Frame 93: CORE RMSD before/after superposition: 2.8 / 2.4 A. \n",
        "24.1477"
       ]
      },
      {
       "output_type": "stream",
       "stream": "stdout",
       "text": [
        "\n",
        "Frame 94: CORE RMSD before/after superposition: 2.8 / 2.4 A. \n",
        "24.1566"
       ]
      },
      {
       "output_type": "stream",
       "stream": "stdout",
       "text": [
        "\n",
        "Frame 95: CORE RMSD before/after superposition: 2.8 / 2.4 A. \n",
        "24.2428"
       ]
      },
      {
       "output_type": "stream",
       "stream": "stdout",
       "text": [
        "\n",
        "Frame 96: CORE RMSD before/after superposition: 2.8 / 2.4 A. \n",
        "24.4591"
       ]
      },
      {
       "output_type": "stream",
       "stream": "stdout",
       "text": [
        "\n",
        "Frame 97: CORE RMSD before/after superposition: 2.9 / 2.5 A. \n",
        "24.4564"
       ]
      },
      {
       "output_type": "stream",
       "stream": "stdout",
       "text": [
        "\n",
        "Frame 98: CORE RMSD before/after superposition: 2.8 / 2.4 A. \n",
        "Wrote PDB trajectory adk_distance_bfac.pdb with distances in bfactor field\n"
       ]
      }
     ],
     "prompt_number": 54
    },
    {
     "cell_type": "heading",
     "level": 2,
     "metadata": {},
     "source": [
      "Using the MDAnalysis.analysis Modules"
     ]
    },
    {
     "cell_type": "markdown",
     "metadata": {},
     "source": [
      "MDAnalysis comes with a number of existing analysis code in the MDAnalysis.analysis module and example scripts (see also the Examples on the MDAnalysis wiki)."
     ]
    },
    {
     "cell_type": "heading",
     "level": 3,
     "metadata": {},
     "source": [
      "RMSD"
     ]
    },
    {
     "cell_type": "markdown",
     "metadata": {},
     "source": [
      "As an example we will use the MDAnalysis.analysis.rms.rmsd() function from the MDAnalysis.analysis.rms module. It computes the coordinate root mean square distance between two sets of coordinates. For example for the AdK trajectory the backbone RMSD between first and last frame is"
     ]
    },
    {
     "cell_type": "code",
     "collapsed": false,
     "input": [
      "import MDAnalysis.analysis.rms\n",
      "u = MDAnalysis.Universe(PSF, DCD)\n",
      "bb = u.selectAtoms('backbone')\n",
      "A = bb.positions  # coordinates of first frame\n",
      "u.trajectory[-1]      # forward to last frame\n",
      "B = bb.positions  # coordinates of last frame\n",
      "MDAnalysis.analysis.rms.rmsd(A,B)"
     ],
     "language": "python",
     "metadata": {},
     "outputs": [
      {
       "metadata": {},
       "output_type": "pyout",
       "prompt_number": 55,
       "text": [
        "6.83424941291698"
       ]
      }
     ],
     "prompt_number": 55
    },
    {
     "cell_type": "heading",
     "level": 3,
     "metadata": {},
     "source": [
      "Superposition of structure"
     ]
    },
    {
     "cell_type": "markdown",
     "metadata": {},
     "source": [
      "In order to superimpose two structures in a way that minimizes the RMSD we have functions in the MDAnalysis.analysis.align module.\n",
      "\n",
      "The example uses files provided as part of the MDAnalysis test suite (in the variables PSF, DCD, and PDB_small). For all further examples execute first"
     ]
    },
    {
     "cell_type": "code",
     "collapsed": true,
     "input": [
      "import MDAnalysis\n",
      "from MDAnalysis.analysis import align\n",
      "from MDAnalysis.tests.datafiles import PSF, DCD, PDB_small"
     ],
     "language": "python",
     "metadata": {},
     "outputs": [],
     "prompt_number": 56
    },
    {
     "cell_type": "markdown",
     "metadata": {},
     "source": [
      "In the simplest case, we can simply calculate the C-alpha RMSD between two structures, using rmsd():"
     ]
    },
    {
     "cell_type": "code",
     "collapsed": false,
     "input": [
      "ref = MDAnalysis.Universe(PDB_small)\n",
      "mobile = MDAnalysis.Universe(PSF,DCD)\n",
      "align.rmsd(mobile.atoms.CA.positions, ref.atoms.CA.positions)"
     ],
     "language": "python",
     "metadata": {},
     "outputs": [
      {
       "metadata": {},
       "output_type": "pyout",
       "prompt_number": 57,
       "text": [
        "18.858259026820352"
       ]
      }
     ],
     "prompt_number": 57
    },
    {
     "cell_type": "markdown",
     "metadata": {},
     "source": [
      "Note that in this example translations have not been removed. In order to look at the pure rotation one needs to superimpose the centres of mass (or geometry) first:"
     ]
    },
    {
     "cell_type": "code",
     "collapsed": false,
     "input": [
      "ref0 =  ref.atoms.CA.positions - ref.atoms.CA.centerOfMass()\n",
      "mobile0 =  mobile.atoms.CA.positions - mobile.atoms.CA.centerOfMass()\n",
      "align.rmsd(mobile0, ref0)"
     ],
     "language": "python",
     "metadata": {},
     "outputs": [
      {
       "metadata": {},
       "output_type": "pyout",
       "prompt_number": 58,
       "text": [
        "6.809396586471795"
       ]
      }
     ],
     "prompt_number": 58
    },
    {
     "cell_type": "markdown",
     "metadata": {},
     "source": [
      "The rotation matrix that superimposes mobile on ref while minimizing the CA-RMSD is obtained with the rotation_matrix() function"
     ]
    },
    {
     "cell_type": "code",
     "collapsed": false,
     "input": [
      "R, rmsd = align.rotation_matrix(mobile0, ref0)\n",
      "print rmsd"
     ],
     "language": "python",
     "metadata": {},
     "outputs": [
      {
       "output_type": "stream",
       "stream": "stdout",
       "text": [
        "6.80939658647\n"
       ]
      }
     ],
     "prompt_number": 59
    },
    {
     "cell_type": "code",
     "collapsed": false,
     "input": [
      "print R"
     ],
     "language": "python",
     "metadata": {},
     "outputs": [
      {
       "output_type": "stream",
       "stream": "stdout",
       "text": [
        "[[ 0.14514539 -0.27259113  0.95111876]\n",
        " [ 0.88652593  0.46267112 -0.00268642]\n",
        " [-0.43932289  0.84358136  0.30881368]]\n"
       ]
      }
     ],
     "prompt_number": 60
    },
    {
     "cell_type": "markdown",
     "metadata": {},
     "source": [
      "Putting all this together one can superimpose all of mobile onto ref:"
     ]
    },
    {
     "cell_type": "code",
     "collapsed": true,
     "input": [
      "mobile.atoms.translate(-mobile.atoms.CA.centerOfMass())\n",
      "mobile.atoms.rotate(R)\n",
      "mobile.atoms.translate(ref.atoms.CA.centerOfMass())\n",
      "mobile.atoms.write(\"mobile_on_ref.pdb\")"
     ],
     "language": "python",
     "metadata": {},
     "outputs": [],
     "prompt_number": 61
    },
    {
     "cell_type": "heading",
     "level": 4,
     "metadata": {},
     "source": [
      "Exercise 5"
     ]
    },
    {
     "cell_type": "markdown",
     "metadata": {},
     "source": [
      "Use the above in order to investigate how rigid the CORE, NMP, and LID domains are during the transition: Compute time series of the CA RMSD of each domain relative to its own starting structure, when superimposed on the starting structure."
     ]
    },
    {
     "cell_type": "markdown",
     "metadata": {},
     "source": [
      "The code contains a function superpose() and rmsd(). The latter is marginally faster because we only need the calculated RMSD and not the full rotation matrix. (We are calling the lower-level function MDAnalysis.core.qcprot.CalcRMSDRotationalMatrix() directly, which has somewhat non-intuitive calling conventions). superpose() also does the superposition of the mobile group to the references (but alignto() is actually a more flexible tool for doing this). Otherwise it is mostly book-keeping, which is solved by organizing everything in dictionaries with keys \u201cCORE\u201d, \u201cNMP\u201d, \u201cLID\u201d."
     ]
    },
    {
     "cell_type": "code",
     "collapsed": false,
     "input": [
      "import numpy as np\n",
      "from MDAnalysis.analysis.align import rotation_matrix\n",
      "from MDAnalysis.core.qcprot import CalcRMSDRotationalMatrix\n",
      "\n",
      "def superpose(mobile, xref0, xref_com=None):\n",
      "    \"\"\"Superpose the AtomGroup *mobile* onto the coordinates *xref0* centered at the orgin.\n",
      "\n",
      "    The original center of mass of the reference group *xref_com* must\n",
      "    be supplied or the superposition is done at the origin of the\n",
      "    coordinate system.\n",
      "    \"\"\"\n",
      "    # 995 us\n",
      "    xref_com = xref_com if xref_com is not None else np.array([0., 0., 0.])\n",
      "    xmobile0 = mobile.positions - mobile.centerOfMass()\n",
      "    R, rmsd = rotation_matrix(xmobile0, xref0)\n",
      "    mobile.rotate(R)\n",
      "    mobile.translate(xref_com)\n",
      "    return rmsd\n",
      "\n",
      "def rmsd(mobile, xref0):\n",
      "    \"\"\"Calculate optimal RMSD for AtomGroup *mobile* onto the coordinates *xref0* centered at the orgin.\n",
      "\n",
      "    The coordinates are not changed. No mass weighting.\n",
      "    \"\"\"\n",
      "    # 738 us\n",
      "    xmobile0 = mobile.positions - mobile.centerOfMass()\n",
      "    return CalcRMSDRotationalMatrix(xref0.T.astype(np.float64), xmobile0.T.astype(np.float64), mobile.numberOfAtoms(), None, None)\n",
      "\n",
      "\n",
      "if __name__ == \"__main__\":\n",
      "    import MDAnalysis\n",
      "    import matplotlib\n",
      "    import matplotlib.pyplot as plt\n",
      "\n",
      "    # load AdK DIMS trajectory\n",
      "    from MDAnalysis.tests.datafiles import PSF, DCD\n",
      "    u = MDAnalysis.Universe(PSF, DCD)\n",
      "\n",
      "    # one AtomGroup per domain\n",
      "    domains = {\n",
      "        'CORE': u.selectAtoms(\"(resid 1:29 or resid 60:121 or resid 160:214) and name CA\"),\n",
      "        'LID': u.selectAtoms(\"resid 122-159 and name CA\"),\n",
      "        'NMP': u.selectAtoms(\"resid 30-59 and name CA\"),\n",
      "        }\n",
      "    colors = {'CORE': 'black', 'NMP': 'blue', 'LID': 'red'}\n",
      "\n",
      "    u.trajectory[0]   # rewind trajectory\n",
      "    xref0 = dict((name, g.positions - g.centerOfMass()) for name,g in domains.iteritems())\n",
      "\n",
      "    nframes = len(u.trajectory)\n",
      "    results = dict((name, np.zeros((nframes, 2), dtype=np.float64)) for name in domains)\n",
      "\n",
      "    for iframe,ts in enumerate(u.trajectory):\n",
      "        for name, g in domains.iteritems():\n",
      "            results[name][iframe, :] = u.trajectory.time, rmsd(g, xref0[name])\n",
      "\n",
      "\n",
      "    # plot\n",
      "    fig = plt.figure(figsize=(5,5))\n",
      "    ax = fig.add_subplot(111)\n",
      "    for name in \"CORE\", \"NMP\", \"LID\":\n",
      "        data = results[name]\n",
      "        ax.plot(data[:,0], data[:,1], linestyle=\"-\", color=colors[name], lw=2, label=name)\n",
      "    ax.legend(loc=\"best\")\n",
      "    ax.set_xlabel(r\"time  $t$ (ps)\")\n",
      "    ax.set_ylabel(r\"C$_\\alpha$ RMSD from $t=0$, $\\rho_{\\mathrm{C}_\\alpha}$ ($\\AA$)\")\n",
      "\n",
      "    for ext in ('svg', 'pdf', 'png'):\n",
      "        fig.savefig(\"AdK_domain_rigidity.{0}\".format(ext))"
     ],
     "language": "python",
     "metadata": {},
     "outputs": [
      {
       "metadata": {},
       "output_type": "display_data",
       "png": "[encoded data removed]",
       "text": [
        "<matplotlib.figure.Figure at 0x10607da50>"
       ]
      }
     ],
     "prompt_number": 62
    },
    {
     "cell_type": "code",
     "collapsed": true,
     "input": [],
     "language": "python",
     "metadata": {},
     "outputs": [],
     "prompt_number": null
    }
   ],
   "metadata": {}
  }
 ]
}